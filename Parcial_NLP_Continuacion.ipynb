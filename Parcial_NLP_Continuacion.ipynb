{
 "cells": [
  {
   "cell_type": "markdown",
   "id": "ec11a646-d678-4706-a0ee-aed92cec7293",
   "metadata": {},
   "source": [
    "### Pregunta 1"
   ]
  },
  {
   "cell_type": "markdown",
   "id": "619c7e3b-c2a9-41f6-b63a-ba5df90e6d80",
   "metadata": {},
   "source": [
    "#### Continuación **agregando parte 1, en una clase**\n",
    "\n",
    "Se agregó las funciones de la parte 1 en una clase llamada Ngrama"
   ]
  },
  {
   "cell_type": "code",
   "execution_count": 22,
   "id": "9cf51daf-0f2c-44ae-967c-de25359595d8",
   "metadata": {},
   "outputs": [],
   "source": [
    "corpus = ['all models are wrong','a model is wrong','some models are useful']\n",
    "vocab = ['<s>','</s>','a','all','are','model','models','some','useful','wrong']"
   ]
  },
  {
   "cell_type": "markdown",
   "id": "92684639-1a02-4f93-a5f0-e0b57e1c8360",
   "metadata": {},
   "source": [
    "#### a) Calcular todas las probabilidades de los bigramas sin suavisado"
   ]
  },
  {
   "cell_type": "code",
   "execution_count": 49,
   "id": "507249fd-dc84-49c8-a7e7-20af7e3b3771",
   "metadata": {},
   "outputs": [],
   "source": [
    "import re\n",
    "\n",
    "class Ngrama:\n",
    "    def __init__(self, corpus , vocab ):\n",
    "        # Inicializamos el vocabulario\n",
    "        self.vocab = vocab\n",
    "        # Tokenizamos el corpus de acuerdo a la naturaleza del corpus\n",
    "        if isinstance(corpus,list):\n",
    "            self.corpus_tokenized = self.preprocesar_list_corpus(corpus)\n",
    "        elif isinstance(corpus,str):\n",
    "            corpus_tokenized = self.tokenized_text(corpus)\n",
    "            self.corpus_tokenized = self.preprocesar_list_corpus(corpus_tokenized)\n",
    "        else:\n",
    "            print('El corpus debe ser un texto o una lista de oraciones')\n",
    "\n",
    "        # Definimos los unigramas, bigramas del corpus y sus frecuencias\n",
    "        self.unigrams =  self.get_freq_ngrams(self.corpus_tokenized,1)\n",
    "        self.bigrams  =  self.get_freq_ngrams(self.corpus_tokenized,2)\n",
    "\n",
    "        # Calculamos el total de bigramas\n",
    "        self.total_bigrams = self.get_freq_t_bigrams(self.bigrams)\n",
    "\n",
    "    def get_freq_t_bigrams(self,bigrams:dict)->dict:\n",
    "        t_bigram_freq = {}\n",
    "        for word1 in vocab:\n",
    "            for word2 in vocab:\n",
    "                bigram = (word1,word2)\n",
    "                t_bigram_freq[bigram] = bigrams.get((word1,word2),0)\n",
    "        return t_bigram_freq   \n",
    "\n",
    "    def get_freq_ngrams(self,corpus_tokenized:list, n_type: int)->dict:\n",
    "        ngrams_freq = {}\n",
    "        n = len(corpus_tokenized)\n",
    "        for i in range(n-n_type+1):\n",
    "            ngram = tuple(corpus_tokenized[i:i+n_type])\n",
    "            if ngram not in ngrams_freq:\n",
    "                ngrams_freq[ngram]=1\n",
    "            else:\n",
    "                ngrams_freq[ngram]+=1\n",
    "        return ngrams_freq\n",
    "\n",
    "    def preprocesar_list_corpus(self,corpus:list):\n",
    "        new_sentence = ['<s>']\n",
    "        for sentence in corpus :\n",
    "            # Preprocesamos una oracion en token de palabras\n",
    "            sentence_tokenized = self.tokenized_sentence(sentence)            \n",
    "            # Agregamos el tag de final de oracion\n",
    "            new_sentence += (sentence_tokenized + ['</s>']) \n",
    "        return new_sentence\n",
    "        \n",
    "    def tokenized_sentence(self,sentence:str)->list:\n",
    "        pattern = re.compile(r'\\b\\w+\\b')\n",
    "        words = pattern.findall(sentence)\n",
    "        \n",
    "        # Verificamos si cada palabra esta en el vocabulario\n",
    "        tokenized_words = [word.lower() if word in self.vocab else '<unk>' for word in words]\n",
    "        \n",
    "        return tokenized_words\n",
    "\n",
    "    def tokenized_text(self,text:str)->list:\n",
    "        return re.split(r'(?<=[.!?])\\s+',text)\n",
    "\n",
    "    def get_prob_bigram(self,bigrams:dict,unigrams:dict):\n",
    "        prob_bigrams = {}\n",
    "        for bigram,freq in bigrams.items():\n",
    "            prob_bigrams[bigram] = (freq)/(unigrams[(bigram[0],)])\n",
    "        return prob_bigrams\n",
    "\n",
    "    def get_prob_add_k_bigram(self,bigrams:dict,unigrams:dict,k:float):\n",
    "        # Tamaño del vocabulario\n",
    "        V = len(vocab)        \n",
    "        # Cálculo de las probabilidades suavizadas\n",
    "        add_k_probabilities = {}\n",
    "        for (w1,w2), freq in bigrams.items():\n",
    "            N = unigrams.get((w1,),0)\n",
    "            # Aplicando la ecuación P_Add-k(w_i) = (c_i + k) / (N + kV)\n",
    "            add_k_probabilities[(w1,w2)] = (freq + k) / (N + k * V)\n",
    "            #print(f'({w1},{w2}) = ({freq} + {k}) / ({N} + {k} * {V}) = {(freq + k) / (N + k * V)} ')        \n",
    "        return add_k_probabilities\n",
    "        \n",
    "\n",
    "    def get_prob_stupid_backoff_bigram(self, bigrams: dict, unigrams: dict, lambda_factor: float):\n",
    "        \"\"\"\n",
    "        Calcula las probabilidades usando Stupid Backoff.\n",
    "        Si el bigrama no se ha visto, retrocede al unigram y multiplica por lambda.\n",
    "        Nota: Para bigramas el backoff y stupid backoff sale lo mismo.\n",
    "        \"\"\"\n",
    "        stupid_backoff_probabilities = {}\n",
    "        V = len(self.vocab)  # Tamaño del vocabulario\n",
    "\n",
    "        for bigram, freq in self.total_bigrams.items():\n",
    "            w1, w2 = bigram\n",
    "            if bigram in bigrams and bigrams[bigram] > 0:\n",
    "                # Si el bigrama existe, calcular la probabilidad normal\n",
    "                stupid_backoff_probabilities[bigram] = bigrams[bigram] / unigrams[(w1,)]\n",
    "            else:\n",
    "                # Retrocedemos al unigram y multiplicamos por lambda\n",
    "                stupid_backoff_probabilities[bigram] = lambda_factor * (unigrams.get((w2,), 0) / sum(unigrams.values()))\n",
    "\n",
    "        return stupid_backoff_probabilities\n",
    "    ########################################################### PARTE 2 ##########################################    \n",
    "    def calculate_N_r(self, ngram_counts: dict):\n",
    "        \"\"\"\n",
    "        Calcula N_r, donde r es la frecuencia y N_r es el número de n-gramas\n",
    "        que ocurren exactamente r veces.\n",
    "        \"\"\"\n",
    "        N_r = {}\n",
    "        for count in ngram_counts.values():\n",
    "            if count not in N_r:\n",
    "                N_r[count] = 1\n",
    "            else:\n",
    "                N_r[count] += 1\n",
    "\n",
    "        # Definir N_0 = 1 como el número de elementos no observados\n",
    "        N_r[0] = 1\n",
    "        return N_r\n",
    "\n",
    "    def good_turing_smoothing(self, ngram_counts: dict, N_r: dict) -> dict:\n",
    "        \n",
    "        adjusted_counts = {}\n",
    "\n",
    "        # Para cada n-grama en los conteos\n",
    "        for ngram, count in ngram_counts.items():\n",
    "            r = count\n",
    "            if r + 1 in N_r and r in N_r:\n",
    "                # Aplicar la formula Good-Turing: c* = (r+1) * (N_{r+1} / N_r)\n",
    "                adjusted_count = (r + 1) * (N_r[r + 1] / N_r[r])\n",
    "            else:\n",
    "                # Para valores grandes de r o cuando no hay N_{r+1}, dejamos el valor como esta\n",
    "                adjusted_count = r\n",
    "\n",
    "            adjusted_counts[ngram] = adjusted_count\n",
    "\n",
    "        return adjusted_counts\n",
    "\n",
    "    def calculate_good_turing_probabilities(self, adjusted_counts: dict):\n",
    "        \n",
    "        total_adjusted_count = len(adjusted_counts)\n",
    "        probabilities = {ngram: count / total_adjusted_count for ngram, count in adjusted_counts.items()}\n",
    "        return probabilities\n",
    "        \n",
    "    def apply_good_turing(self):\n",
    "        \n",
    "        # Calculamos N_r a partir de los conteos de bigramas\n",
    "        N_r = self.calculate_N_r(self.bigrams)\n",
    "\n",
    "        # Ajustamos los conteos con Good-Turing\n",
    "        adjusted_bigrams = self.good_turing_smoothing(self.bigrams, N_r)\n",
    "\n",
    "        # Calculamos las probabilidades ajustadas\n",
    "        good_turing_probabilities = self.calculate_good_turing_probabilities(adjusted_bigrams)\n",
    "        \n",
    "        return good_turing_probabilities\n",
    "    \n",
    "        \n"
   ]
  },
  {
   "cell_type": "code",
   "execution_count": 50,
   "id": "1bc6c2a1-8ab1-4316-b1d7-26715b37e4a8",
   "metadata": {},
   "outputs": [],
   "source": [
    "ml = Ngrama(corpus,vocab)"
   ]
  },
  {
   "cell_type": "code",
   "execution_count": 51,
   "id": "2733b09d-2f0f-41d0-ba15-f68bb5af1eb7",
   "metadata": {},
   "outputs": [
    {
     "data": {
      "text/plain": [
       "{('<s>',): 1,\n",
       " ('all',): 1,\n",
       " ('models',): 2,\n",
       " ('are',): 2,\n",
       " ('wrong',): 2,\n",
       " ('</s>',): 3,\n",
       " ('a',): 1,\n",
       " ('model',): 1,\n",
       " ('<unk>',): 1,\n",
       " ('some',): 1,\n",
       " ('useful',): 1}"
      ]
     },
     "execution_count": 51,
     "metadata": {},
     "output_type": "execute_result"
    }
   ],
   "source": [
    "ml.unigrams"
   ]
  },
  {
   "cell_type": "code",
   "execution_count": 52,
   "id": "608a65ba-0f39-4482-aaa2-4572cf9940fb",
   "metadata": {},
   "outputs": [
    {
     "data": {
      "text/plain": [
       "{('<s>', 'all'): 1,\n",
       " ('all', 'models'): 1,\n",
       " ('models', 'are'): 2,\n",
       " ('are', 'wrong'): 1,\n",
       " ('wrong', '</s>'): 2,\n",
       " ('</s>', 'a'): 1,\n",
       " ('a', 'model'): 1,\n",
       " ('model', '<unk>'): 1,\n",
       " ('<unk>', 'wrong'): 1,\n",
       " ('</s>', 'some'): 1,\n",
       " ('some', 'models'): 1,\n",
       " ('are', 'useful'): 1,\n",
       " ('useful', '</s>'): 1}"
      ]
     },
     "execution_count": 52,
     "metadata": {},
     "output_type": "execute_result"
    }
   ],
   "source": [
    "ml.bigrams"
   ]
  },
  {
   "cell_type": "code",
   "execution_count": 53,
   "id": "762a81e2-1901-4428-8834-07bba35d84c1",
   "metadata": {},
   "outputs": [],
   "source": [
    "total_freq = ml.get_freq_t_bigrams(ml.bigrams)"
   ]
  },
  {
   "cell_type": "markdown",
   "id": "b408a321-34f2-439e-9104-acbdd0c43d94",
   "metadata": {},
   "source": [
    "## Probabilidades sin Suavizado"
   ]
  },
  {
   "cell_type": "markdown",
   "id": "00960c72-0ffc-4939-8e10-996cf3dc383a",
   "metadata": {},
   "source": [
    "prob_bigramas = ml.get_prob_bigram(total_freq,ml.unigrams)"
   ]
  },
  {
   "cell_type": "code",
   "execution_count": 54,
   "id": "8b04d823-3829-4fe4-a3ec-66a324a20fd2",
   "metadata": {},
   "outputs": [
    {
     "name": "stdout",
     "output_type": "stream",
     "text": [
      "Top 10 - Probabilidades sin suavizado\n",
      "('<s>', 'all'): 1.0\n",
      "('a', 'model'): 1.0\n",
      "('all', 'models'): 1.0\n",
      "('models', 'are'): 1.0\n",
      "('some', 'models'): 1.0\n",
      "('useful', '</s>'): 1.0\n",
      "('wrong', '</s>'): 1.0\n",
      "('are', 'useful'): 0.5\n",
      "('are', 'wrong'): 0.5\n",
      "('</s>', 'a'): 0.3333333333333333\n"
     ]
    }
   ],
   "source": [
    "prob_bigramas = ml.get_prob_bigram(total_freq,ml.unigrams)\n",
    "prob_ord = sorted( prob_bigramas.items() , key = lambda x: x[1]  , reverse = True)[:10]\n",
    "print('Top 10 - Probabilidades sin suavizado')\n",
    "for (bigram,prob) in prob_ord:\n",
    "    print(f'{bigram}: {prob}')"
   ]
  },
  {
   "cell_type": "markdown",
   "id": "9f694d52-0c61-4447-b38f-be5ea35b0821",
   "metadata": {},
   "source": [
    "## Probabilidades con Suavizado add-one"
   ]
  },
  {
   "cell_type": "code",
   "execution_count": 55,
   "id": "ede99c3b-4c4a-406a-a234-1294665b7c4e",
   "metadata": {},
   "outputs": [
    {
     "name": "stdout",
     "output_type": "stream",
     "text": [
      "Top 10 - Probabilidades con suavizado add-one\n",
      "('models', 'are'): 0.25\n",
      "('wrong', '</s>'): 0.25\n",
      "('<s>', 'all'): 0.18181818181818182\n",
      "('a', 'model'): 0.18181818181818182\n",
      "('all', 'models'): 0.18181818181818182\n",
      "('some', 'models'): 0.18181818181818182\n",
      "('useful', '</s>'): 0.18181818181818182\n",
      "('are', 'useful'): 0.16666666666666666\n",
      "('are', 'wrong'): 0.16666666666666666\n",
      "('</s>', 'a'): 0.15384615384615385\n"
     ]
    }
   ],
   "source": [
    "add_k_probabilities =ml.get_prob_add_k_bigram(total_freq,ml.unigrams,k=1)\n",
    "\n",
    "prob_ord = sorted( add_k_probabilities.items() , key = lambda x: x[1]  , reverse = True)[:10]\n",
    "print('Top 10 - Probabilidades con suavizado add-one')\n",
    "for (bigram,prob) in prob_ord:\n",
    "    print(f'{bigram}: {prob}')"
   ]
  },
  {
   "cell_type": "code",
   "execution_count": 56,
   "id": "0c9106b1-b139-4ae4-a7ee-cb5e82612179",
   "metadata": {},
   "outputs": [
    {
     "name": "stdout",
     "output_type": "stream",
     "text": [
      "('models', '<s>') : 0.08333333333333333\n",
      "('models', '</s>') : 0.08333333333333333\n",
      "('models', 'a') : 0.08333333333333333\n",
      "('models', 'all') : 0.08333333333333333\n",
      "('models', 'are') : 0.25\n",
      "('models', 'model') : 0.08333333333333333\n",
      "('models', 'models') : 0.08333333333333333\n",
      "('models', 'some') : 0.08333333333333333\n",
      "('models', 'useful') : 0.08333333333333333\n",
      "('models', 'wrong') : 0.08333333333333333\n",
      "suma probabilidades: 1.0\n"
     ]
    }
   ],
   "source": [
    "# Veamos un ejemplo de los posibles bigramas del vocabulario y sus probabilidades\n",
    "# Para el unigram : 'models' \n",
    "suma = 0\n",
    "for bigram,p in add_k_probabilities.items():\n",
    "    if bigram[0] == 'models':\n",
    "        print(f'{bigram} : {p}')\n",
    "        suma+=p\n",
    "print(f'suma probabilidades: {suma}')"
   ]
  },
  {
   "cell_type": "markdown",
   "id": "42cfae01-6a06-40df-95b0-751d36cbd420",
   "metadata": {},
   "source": [
    "### Bigrama no visto : **( a , models )**"
   ]
  },
  {
   "cell_type": "code",
   "execution_count": 57,
   "id": "ef95e555-2f02-42fe-bbc8-5aa28f65e980",
   "metadata": {},
   "outputs": [
    {
     "name": "stdout",
     "output_type": "stream",
     "text": [
      "('a', 'models') : 0.09090909090909091\n"
     ]
    }
   ],
   "source": [
    "# Para el Bigrama a models\n",
    "bigrama = ('a','models')\n",
    "for bigram,p in add_k_probabilities.items():\n",
    "    if bigram == bigrama:\n",
    "        print(f'{bigram} : {p}')\n",
    "    "
   ]
  },
  {
   "cell_type": "markdown",
   "id": "03d0122d-c56a-4918-8879-9163338f098d",
   "metadata": {},
   "source": [
    "## Probabilidades sin Suavizado add-k = 0.05"
   ]
  },
  {
   "cell_type": "code",
   "execution_count": 58,
   "id": "cfc8a8f0-e0c0-474c-a3f2-1c45d67ce7f8",
   "metadata": {
    "scrolled": true
   },
   "outputs": [
    {
     "name": "stdout",
     "output_type": "stream",
     "text": [
      "Top 10 - Probabilidades con suavizado add-k = 0.05\n",
      "('models', 'are'): 0.82\n",
      "('wrong', '</s>'): 0.82\n",
      "('<s>', 'all'): 0.7000000000000001\n",
      "('a', 'model'): 0.7000000000000001\n",
      "('all', 'models'): 0.7000000000000001\n",
      "('some', 'models'): 0.7000000000000001\n",
      "('useful', '</s>'): 0.7000000000000001\n",
      "('are', 'useful'): 0.42000000000000004\n",
      "('are', 'wrong'): 0.42000000000000004\n",
      "('</s>', 'a'): 0.3\n"
     ]
    }
   ],
   "source": [
    "add_k_probabilities_1 =ml.get_prob_add_k_bigram(total_freq,ml.unigrams,k=0.05)\n",
    "\n",
    "prob_ord = sorted( add_k_probabilities_1.items() , key = lambda x: x[1]  , reverse = True)[:10]\n",
    "print('Top 10 - Probabilidades con suavizado add-k = 0.05')\n",
    "for (bigram,prob) in prob_ord:\n",
    "    print(f'{bigram}: {prob}')"
   ]
  },
  {
   "cell_type": "markdown",
   "id": "5c013e62-6689-434b-9a0f-0a0a8e0a9a7e",
   "metadata": {},
   "source": [
    "Vemos que las probabilidades se han reducido, porque se ha suavizado para los bigramas que no aparecen en el corpus"
   ]
  },
  {
   "cell_type": "code",
   "execution_count": 59,
   "id": "c32f9574-07e6-405a-8d15-b53c07be92dc",
   "metadata": {},
   "outputs": [
    {
     "name": "stdout",
     "output_type": "stream",
     "text": [
      "('models', '<s>') : 0.02\n",
      "('models', '</s>') : 0.02\n",
      "('models', 'a') : 0.02\n",
      "('models', 'all') : 0.02\n",
      "('models', 'are') : 0.82\n",
      "('models', 'model') : 0.02\n",
      "('models', 'models') : 0.02\n",
      "('models', 'some') : 0.02\n",
      "('models', 'useful') : 0.02\n",
      "('models', 'wrong') : 0.02\n",
      "suma probabilidades: 1.0\n"
     ]
    }
   ],
   "source": [
    "# Veamos un ejemplo de los posibles bigramas del vocabulario y sus probabilidades\n",
    "# Para el unigram : 'models' \n",
    "suma = 0\n",
    "for bigram,p in add_k_probabilities_1.items():\n",
    "    if bigram[0] == 'models':\n",
    "        print(f'{bigram} : {p}')\n",
    "        suma+=p\n",
    "print(f'suma probabilidades: {suma}')"
   ]
  },
  {
   "cell_type": "markdown",
   "id": "b6ae470f-c05d-4e61-9927-105d82976105",
   "metadata": {},
   "source": [
    "### Bigrama no visto : **( a , models )**"
   ]
  },
  {
   "cell_type": "code",
   "execution_count": 60,
   "id": "1648ebb4-fa3d-4d2e-b267-f2d17ca8cb0f",
   "metadata": {},
   "outputs": [
    {
     "name": "stdout",
     "output_type": "stream",
     "text": [
      "('a', 'models') : 0.03333333333333333\n"
     ]
    }
   ],
   "source": [
    "# Para el Bigrama a models\n",
    "bigrama = ('a','models')\n",
    "for bigram,p in add_k_probabilities_1.items():\n",
    "    if bigram == bigrama:\n",
    "        print(f'{bigram} : {p}')"
   ]
  },
  {
   "cell_type": "markdown",
   "id": "140b4269-be92-452f-b7d9-98732ff1be59",
   "metadata": {},
   "source": [
    "## Probabilidades sin Suavizado add-k = 0.15"
   ]
  },
  {
   "cell_type": "code",
   "execution_count": 61,
   "id": "1f12a526-6a12-4ead-b78a-a92ca5af353d",
   "metadata": {},
   "outputs": [
    {
     "name": "stdout",
     "output_type": "stream",
     "text": [
      "Top 10 - Probabilidades con suavizado add-k = 0.15\n",
      "('models', 'are'): 0.6142857142857142\n",
      "('wrong', '</s>'): 0.6142857142857142\n",
      "('<s>', 'all'): 0.45999999999999996\n",
      "('a', 'model'): 0.45999999999999996\n",
      "('all', 'models'): 0.45999999999999996\n",
      "('some', 'models'): 0.45999999999999996\n",
      "('useful', '</s>'): 0.45999999999999996\n",
      "('are', 'useful'): 0.32857142857142857\n",
      "('are', 'wrong'): 0.32857142857142857\n",
      "('</s>', 'a'): 0.25555555555555554\n"
     ]
    }
   ],
   "source": [
    "add_k_probabilities_2 =ml.get_prob_add_k_bigram(total_freq,ml.unigrams,k=0.15)\n",
    "\n",
    "prob_ord = sorted( add_k_probabilities_2.items() , key = lambda x: x[1]  , reverse = True)[:10]\n",
    "print('Top 10 - Probabilidades con suavizado add-k = 0.15')\n",
    "for (bigram,prob) in prob_ord:\n",
    "    print(f'{bigram}: {prob}')"
   ]
  },
  {
   "cell_type": "code",
   "execution_count": 62,
   "id": "1f868cad-379b-4c62-a259-9cf8a35dc4b1",
   "metadata": {},
   "outputs": [
    {
     "name": "stdout",
     "output_type": "stream",
     "text": [
      "('models', '<s>') : 0.04285714285714286\n",
      "('models', '</s>') : 0.04285714285714286\n",
      "('models', 'a') : 0.04285714285714286\n",
      "('models', 'all') : 0.04285714285714286\n",
      "('models', 'are') : 0.6142857142857142\n",
      "('models', 'model') : 0.04285714285714286\n",
      "('models', 'models') : 0.04285714285714286\n",
      "('models', 'some') : 0.04285714285714286\n",
      "('models', 'useful') : 0.04285714285714286\n",
      "('models', 'wrong') : 0.04285714285714286\n",
      "suma probabilidades: 0.9999999999999997\n"
     ]
    }
   ],
   "source": [
    "# Veamos un ejemplo de los posibles bigramas del vocabulario y sus probabilidades\n",
    "# Para el unigram : 'models' \n",
    "suma = 0\n",
    "for bigram,p in add_k_probabilities_2.items():\n",
    "    if bigram[0] == 'models':\n",
    "        print(f'{bigram} : {p}')\n",
    "        suma+=p\n",
    "print(f'suma probabilidades: {suma}')"
   ]
  },
  {
   "cell_type": "markdown",
   "id": "2535c327-eeec-4022-a043-1f5768f862c0",
   "metadata": {},
   "source": [
    "### Bigrama no visto : **( a , models )**"
   ]
  },
  {
   "cell_type": "code",
   "execution_count": 63,
   "id": "2d89d6d1-107b-4e06-921c-4f8a472bd17e",
   "metadata": {},
   "outputs": [
    {
     "name": "stdout",
     "output_type": "stream",
     "text": [
      "('a', 'models') : 0.06\n"
     ]
    }
   ],
   "source": [
    "# Para el Bigrama a models\n",
    "bigrama = ('a','models')\n",
    "for bigram,p in add_k_probabilities_2.items():\n",
    "    if bigram == bigrama:\n",
    "        print(f'{bigram} : {p}')"
   ]
  },
  {
   "cell_type": "markdown",
   "id": "f61da248-aa25-457a-8cd6-6719ffeee69f",
   "metadata": {},
   "source": [
    "## Backoff y stupid-backoff"
   ]
  },
  {
   "cell_type": "code",
   "execution_count": 64,
   "id": "897dca21-e533-458d-a30b-f8ec147a65e0",
   "metadata": {},
   "outputs": [
    {
     "name": "stdout",
     "output_type": "stream",
     "text": [
      "('models', '<s>'): 0.025\n",
      "('models', '</s>'): 0.07500000000000001\n",
      "('models', 'a'): 0.025\n",
      "('models', 'all'): 0.025\n",
      "('models', 'are'): 1.0\n",
      "('models', 'model'): 0.025\n",
      "('models', 'models'): 0.05\n",
      "('models', 'some'): 0.025\n",
      "('models', 'useful'): 0.025\n",
      "('models', 'wrong'): 0.05\n",
      "Suma de probabilidades (Stupid Backoff) para 'models': 1.3249999999999997\n"
     ]
    }
   ],
   "source": [
    "# Probamos la funcion Stupid Backoff con lambda = 0.4\n",
    "lambda_factor = 0.4\n",
    "stupid_backoff_probabilities = ml.get_prob_stupid_backoff_bigram(total_freq, ml.unigrams, lambda_factor)\n",
    "\n",
    "# Verificamos si las probabilidades suman 1 para el unigram 'models'\n",
    "sum_prob_stupid_backoff = 0\n",
    "for bigram, prob in stupid_backoff_probabilities.items():\n",
    "    if bigram[0] == 'models':\n",
    "        print(f\"{bigram}: {prob}\")\n",
    "        sum_prob_stupid_backoff += prob\n",
    "\n",
    "print(f\"Suma de probabilidades (Stupid Backoff) para 'models': {sum_prob_stupid_backoff}\")"
   ]
  },
  {
   "cell_type": "markdown",
   "id": "0cf14fc1-ce88-4d81-9963-25e1d5a0871a",
   "metadata": {},
   "source": [
    "# PARTE 2"
   ]
  },
  {
   "cell_type": "markdown",
   "id": "4a64c204-b6b3-40b8-ab86-d63c928485e9",
   "metadata": {},
   "source": [
    "### (e) - Cálculo de r , Nr , N0\n",
    "\n"
   ]
  },
  {
   "cell_type": "code",
   "execution_count": 65,
   "id": "a4019d62-e7e7-45ac-b68a-7226361959bb",
   "metadata": {},
   "outputs": [
    {
     "data": {
      "text/plain": [
       "{('<s>',): 1,\n",
       " ('all',): 1,\n",
       " ('models',): 2,\n",
       " ('are',): 2,\n",
       " ('wrong',): 2,\n",
       " ('</s>',): 3,\n",
       " ('a',): 1,\n",
       " ('model',): 1,\n",
       " ('<unk>',): 1,\n",
       " ('some',): 1,\n",
       " ('useful',): 1}"
      ]
     },
     "execution_count": 65,
     "metadata": {},
     "output_type": "execute_result"
    }
   ],
   "source": [
    "# Unigramas de la parte 1\n",
    "ml.unigrams"
   ]
  },
  {
   "cell_type": "code",
   "execution_count": 66,
   "id": "f2800f25-4d1f-409c-9a82-b81589211ffd",
   "metadata": {},
   "outputs": [
    {
     "name": "stdout",
     "output_type": "stream",
     "text": [
      "Nr para los unigramas: {1: 7, 2: 3, 3: 1, 0: 1}\n",
      "Valor de N_0: 1\n"
     ]
    }
   ],
   "source": [
    "# Aplicar el cálculo de N_r para los unigramas\n",
    "Nr_unigrams = ml.calculate_N_r(ml.unigrams)\n",
    "\n",
    "# Mostrar los resultados\n",
    "print(\"Nr para los unigramas:\", Nr_unigrams)\n",
    "print(\"Valor de N_0:\", Nr_unigrams.get(0, 0))\n"
   ]
  },
  {
   "cell_type": "markdown",
   "id": "fe8a249f-1fc7-4a54-af75-95f52570ad99",
   "metadata": {},
   "source": [
    "### (f) Calculo de cr para r < 3 "
   ]
  },
  {
   "cell_type": "code",
   "execution_count": 67,
   "id": "43953e22-f130-4f9a-99e9-b9df5cdfc883",
   "metadata": {},
   "outputs": [
    {
     "data": {
      "text/plain": [
       "{('<s>',): 0.8571428571428571,\n",
       " ('all',): 0.8571428571428571,\n",
       " ('models',): 1.0,\n",
       " ('are',): 1.0,\n",
       " ('wrong',): 1.0,\n",
       " ('</s>',): 3,\n",
       " ('a',): 0.8571428571428571,\n",
       " ('model',): 0.8571428571428571,\n",
       " ('<unk>',): 0.8571428571428571,\n",
       " ('some',): 0.8571428571428571,\n",
       " ('useful',): 0.8571428571428571}"
      ]
     },
     "execution_count": 67,
     "metadata": {},
     "output_type": "execute_result"
    }
   ],
   "source": [
    "# Aplicamos suavizado Good-Turing a los unigramas\n",
    "adjusted_unigrams = ml.good_turing_smoothing(ml.unigrams, Nr_unigrams)\n",
    "adjusted_unigrams"
   ]
  },
  {
   "cell_type": "code",
   "execution_count": 68,
   "id": "4dd3cafb-d295-4ccc-a599-b9491562a017",
   "metadata": {},
   "outputs": [
    {
     "data": {
      "text/plain": [
       "{('<s>',): 0.07792207792207792,\n",
       " ('all',): 0.07792207792207792,\n",
       " ('models',): 0.09090909090909091,\n",
       " ('are',): 0.09090909090909091,\n",
       " ('wrong',): 0.09090909090909091,\n",
       " ('</s>',): 0.2727272727272727,\n",
       " ('a',): 0.07792207792207792,\n",
       " ('model',): 0.07792207792207792,\n",
       " ('<unk>',): 0.07792207792207792,\n",
       " ('some',): 0.07792207792207792,\n",
       " ('useful',): 0.07792207792207792}"
      ]
     },
     "execution_count": 68,
     "metadata": {},
     "output_type": "execute_result"
    }
   ],
   "source": [
    "# Calculamos probabilidades ajustadas\n",
    "good_turing_probabilities = ml.calculate_good_turing_probabilities(adjusted_unigrams)\n",
    "good_turing_probabilities"
   ]
  },
  {
   "cell_type": "code",
   "execution_count": 69,
   "id": "2fa96b9c-7bcb-41b7-b807-531cf00aaf41",
   "metadata": {},
   "outputs": [
    {
     "name": "stdout",
     "output_type": "stream",
     "text": [
      "Probabilidades ajustadas Good-Turing (r < 3):\n",
      "('<s>',): 0.07792207792207792\n",
      "('all',): 0.07792207792207792\n",
      "('models',): 0.09090909090909091\n",
      "('are',): 0.09090909090909091\n",
      "('wrong',): 0.09090909090909091\n",
      "('a',): 0.07792207792207792\n",
      "('model',): 0.07792207792207792\n",
      "('<unk>',): 0.07792207792207792\n",
      "('some',): 0.07792207792207792\n",
      "('useful',): 0.07792207792207792\n"
     ]
    }
   ],
   "source": [
    "# Mostrar los resultados para los unigramas con r < 3\n",
    "print(\"Probabilidades ajustadas Good-Turing (r < 3):\")\n",
    "for unigram, prob in good_turing_probabilities.items():\n",
    "    count = ml.unigrams[unigram]\n",
    "    if count < 3:\n",
    "        print(f\"{unigram}: {prob}\")"
   ]
  },
  {
   "cell_type": "markdown",
   "id": "c07f2376-40b9-41bf-a05e-427ede205e9f",
   "metadata": {},
   "source": [
    "### (g) Cálculo de la probabilidad mediante MLE para r máximo"
   ]
  },
  {
   "cell_type": "code",
   "execution_count": 70,
   "id": "815a84e0-925a-4df4-8b32-eeb73c3fcc3b",
   "metadata": {},
   "outputs": [
    {
     "name": "stdout",
     "output_type": "stream",
     "text": [
      "r_max = 3\n",
      "Probabilidades MLE para r máximo (3):\n",
      "('</s>',): 0.1875\n"
     ]
    }
   ],
   "source": [
    "# MLE: si N_{r+1} = 0, calculamos la probabilidad P(w | #w = r)\n",
    "r_max = max(Nr_unigrams.keys())\n",
    "print(f'r_max = {r_max}')\n",
    "\n",
    "# Calculamos probabilidad con MLE\n",
    "def calculate_MLE(ngram_counts):\n",
    "    total_count = sum(ngram_counts.values())\n",
    "    probabilities = {ngram: count / total_count for ngram, count in ngram_counts.items()}\n",
    "    return probabilities\n",
    "\n",
    "# Probabilidades con MLE para el valor máximo de r\n",
    "mle_probabilities = calculate_MLE(ml.unigrams)\n",
    "\n",
    "# Mostramos las probabilidades MLE\n",
    "print(f\"Probabilidades MLE para r máximo ({r_max}):\")\n",
    "for unigram, prob in mle_probabilities.items():\n",
    "    count = ml.unigrams[unigram]\n",
    "    if count == r_max:\n",
    "        print(f\"{unigram}: {prob}\")\n"
   ]
  },
  {
   "cell_type": "markdown",
   "id": "e8a9586b-65d6-4a8d-bb4c-c26200159fa2",
   "metadata": {},
   "source": [
    "### (h) - Normalización de las probabilidades para que sumen 1"
   ]
  },
  {
   "cell_type": "code",
   "execution_count": 71,
   "id": "cbe04b1d-f436-4956-88e4-fd81f005f98b",
   "metadata": {},
   "outputs": [
    {
     "data": {
      "text/plain": [
       "{('<s>',): 0.07792207792207792,\n",
       " ('all',): 0.07792207792207792,\n",
       " ('models',): 0.09090909090909091,\n",
       " ('are',): 0.09090909090909091,\n",
       " ('wrong',): 0.09090909090909091,\n",
       " ('</s>',): 0.2727272727272727,\n",
       " ('a',): 0.07792207792207792,\n",
       " ('model',): 0.07792207792207792,\n",
       " ('<unk>',): 0.07792207792207792,\n",
       " ('some',): 0.07792207792207792,\n",
       " ('useful',): 0.07792207792207792}"
      ]
     },
     "execution_count": 71,
     "metadata": {},
     "output_type": "execute_result"
    }
   ],
   "source": [
    "# Mostramos que la suma no es 1\n",
    "good_turing_probabilities"
   ]
  },
  {
   "cell_type": "code",
   "execution_count": 72,
   "id": "a206427a-1ad6-41fc-b961-a6d61ca5a3a2",
   "metadata": {},
   "outputs": [
    {
     "name": "stdout",
     "output_type": "stream",
     "text": [
      "Suma de probabilidades:  1.090909090909091\n"
     ]
    }
   ],
   "source": [
    "s = 0\n",
    "for unigram,p in good_turing_probabilities.items():\n",
    "    s+=p\n",
    "print('Suma de probabilidades: ',s)"
   ]
  },
  {
   "cell_type": "code",
   "execution_count": 74,
   "id": "964ec07b-13f1-4a20-b186-fde68b603147",
   "metadata": {
    "scrolled": true
   },
   "outputs": [
    {
     "name": "stdout",
     "output_type": "stream",
     "text": [
      "Probabilidades normalizadas (Good-Turing):\n",
      "('<s>',): 0.07142857142857142\n",
      "('all',): 0.07142857142857142\n",
      "('models',): 0.08333333333333333\n",
      "('are',): 0.08333333333333333\n",
      "('wrong',): 0.08333333333333333\n",
      "('</s>',): 0.24999999999999994\n",
      "('a',): 0.07142857142857142\n",
      "('model',): 0.07142857142857142\n",
      "('<unk>',): 0.07142857142857142\n",
      "('some',): 0.07142857142857142\n",
      "('useful',): 0.07142857142857142\n"
     ]
    }
   ],
   "source": [
    "# Normalizar probabilidades para que sumen 1\n",
    "def normalize_probabilities(probabilities):\n",
    "    total_prob = sum(probabilities.values())\n",
    "    normalized_probs = {ngram: prob / total_prob for ngram, prob in probabilities.items()}\n",
    "    return normalized_probs\n",
    "\n",
    "# Normalizamos las probabilidades ajustadas\n",
    "normalized_good_turing_probs = normalize_probabilities(good_turing_probabilities)\n",
    "\n",
    "# Mostrar las probabilidades normalizadas\n",
    "print(\"Probabilidades normalizadas (Good-Turing):\")\n",
    "s=0\n",
    "for bigram, prob in normalized_good_turing_probs.items():\n",
    "    s+=prob\n",
    "    print(f\"{bigram}: {prob}\")\n"
   ]
  },
  {
   "cell_type": "code",
   "execution_count": 75,
   "id": "5928fc71-05a3-44ff-b9d9-c02f880f793c",
   "metadata": {},
   "outputs": [
    {
     "name": "stdout",
     "output_type": "stream",
     "text": [
      "Suma de probabilidades: 0.9999999999999998\n"
     ]
    }
   ],
   "source": [
    "print(f'Suma de probabilidades: {s}')"
   ]
  },
  {
   "cell_type": "markdown",
   "id": "c57f3c4d-fe18-49ab-b407-d00cea81fd24",
   "metadata": {},
   "source": [
    "### (i) - Ajustar suavemente Nr para grandes valores de r"
   ]
  },
  {
   "cell_type": "code",
   "execution_count": 95,
   "id": "2045bf4d-63f3-4d49-9882-66853ddc5fd4",
   "metadata": {},
   "outputs": [
    {
     "name": "stdout",
     "output_type": "stream",
     "text": [
      "Probabilidades ajustadas Good-Turing con N5 suavizado:\n",
      "('<s>',): 0.07792207792207792\n",
      "('all',): 0.07792207792207792\n",
      "('models',): 0.09090909090909091\n",
      "('are',): 0.09090909090909091\n",
      "('wrong',): 0.09090909090909091\n",
      "('</s>',): 0.2727272727272727\n",
      "('a',): 0.07792207792207792\n",
      "('model',): 0.07792207792207792\n",
      "('<unk>',): 0.07792207792207792\n",
      "('some',): 0.07792207792207792\n",
      "('useful',): 0.07792207792207792\n"
     ]
    }
   ],
   "source": [
    "# Supongamos que N5 no existe \n",
    "def smooth_Nr(Nr, r_value):\n",
    "    Nr[r_value] = Nr.get(r_value-1,1) # Ajustamos N5 = N4 o 1 si no existe N4\n",
    "    return Nr\n",
    "\n",
    "# reemplezamos el N5\n",
    "Nr_smoothed = smooth_Nr(Nr_unigrams, 5)\n",
    "\n",
    "# Aplicamos nuevamente Good-Turing con el ajuste suave\n",
    "adjusted_unigrams_smoothed = ml.good_turing_smoothing(ml.unigrams, Nr_smoothed)\n",
    "\n",
    "# Calculamos las probabilidades ajustadas con Good-Turing y el ajuste de N5\n",
    "good_turing_probabilities_smoothed = ml.calculate_good_turing_probabilities(adjusted_unigrams_smoothed)\n",
    "\n",
    "# Mostramos los resultados con el suavizado\n",
    "print(\"Probabilidades ajustadas Good-Turing con N5 suavizado:\")\n",
    "for unigram, prob in good_turing_probabilities_smoothed.items():\n",
    "    print(f\"{unigram}: {prob}\")\n"
   ]
  },
  {
   "cell_type": "markdown",
   "id": "bd1c7111-e205-4485-9fdb-45ccf4f66f23",
   "metadata": {},
   "source": [
    "# 2 . Brown Clustering , LSA y Word2vec"
   ]
  },
  {
   "cell_type": "markdown",
   "id": "4ceb9069-3912-4e1a-847c-ad7f16747584",
   "metadata": {},
   "source": [
    "## Corpus : UD_Spanish-AnCora\n",
    "\n",
    "link : https://github.com/UniversalDependencies/UD_Spanish-AnCora/blob/master/es_ancora-ud-train.conllu"
   ]
  },
  {
   "cell_type": "code",
   "execution_count": 79,
   "id": "c3d4b2bf-e20f-4ad0-b8d7-a05246a59410",
   "metadata": {},
   "outputs": [
    {
     "name": "stdout",
     "output_type": "stream",
     "text": [
      "Requirement already satisfied: conllu in c:\\users\\computer\\anaconda3\\envs\\nlp\\lib\\site-packages (6.0.0)\n"
     ]
    }
   ],
   "source": [
    "# Instalamos la libreria para la lectura del corpus\n",
    "!pip install conllu"
   ]
  },
  {
   "cell_type": "code",
   "execution_count": 80,
   "id": "02a9c293-b78a-43ed-9518-d065f6c22ed0",
   "metadata": {},
   "outputs": [],
   "source": [
    "from conllu import parse\n",
    "\n",
    "def read_conllu(file_path):\n",
    "    with open(file_path,'r',encoding='utf-8') as f:\n",
    "        data = f.read()\n",
    "\n",
    "    sentences = parse(data)\n",
    "    return sentences"
   ]
  },
  {
   "cell_type": "code",
   "execution_count": 82,
   "id": "f41389ca-41ef-4c9a-91d0-1162d9709bf5",
   "metadata": {},
   "outputs": [],
   "source": [
    "# Ejemplo de uso\n",
    "file_path = \"./es_ancora-ud-train.conllu\"\n",
    "sentences = read_conllu(file_path)"
   ]
  },
  {
   "cell_type": "code",
   "execution_count": 101,
   "id": "a1f7cc7c-e120-4707-8427-c6f9e883d53a",
   "metadata": {},
   "outputs": [
    {
     "data": {
      "text/plain": [
       "conllu.models.TokenList"
      ]
     },
     "execution_count": 101,
     "metadata": {},
     "output_type": "execute_result"
    }
   ],
   "source": [
    "type(sentences[0])"
   ]
  },
  {
   "cell_type": "code",
   "execution_count": 94,
   "id": "76456b23-c085-4a2d-9429-836e45091de3",
   "metadata": {
    "scrolled": true
   },
   "outputs": [
    {
     "name": "stdout",
     "output_type": "stream",
     "text": [
      "Las reservas de oro y divisas de Rusia subieron 800 millones de dólares y el 26 de mayo equivalían a 19.100 millones de dólares , informó hoy un comunicado del de el Banco Central . "
     ]
    }
   ],
   "source": [
    "# Mostrar la primera oración\n",
    "for token in sentences[0]:\n",
    "    print(token,end=' ')"
   ]
  },
  {
   "cell_type": "code",
   "execution_count": 110,
   "id": "562567e0-1c59-411c-b3e0-c054b1af3aac",
   "metadata": {},
   "outputs": [],
   "source": [
    "# Transformar a txt\n",
    "def conllu_to_text(file_input,file_output):\n",
    "    sentences = read_conllu(file_input)\n",
    "    # Extraer solo el texto de cada oración\n",
    "    text_sentences = []\n",
    "    for sentence in sentences:\n",
    "        words = [token[\"form\"] for token in sentence]  # Extraer solo la palabra (forma)\n",
    "        text_sentences.append(\" \".join(words))  # Unir las palabras en una oración\n",
    "\n",
    "    with open(file_output, 'w', encoding='utf-8') as f:\n",
    "        for sentence in text_sentences:\n",
    "            f.write(sentence + '\\n')"
   ]
  },
  {
   "cell_type": "code",
   "execution_count": 111,
   "id": "6e579db8-4c05-4c9c-a0f1-9d501bb11492",
   "metadata": {},
   "outputs": [],
   "source": [
    "conllu_to_text('./es_ancora-ud-train.conllu','./es_ancora.txt')"
   ]
  },
  {
   "cell_type": "markdown",
   "id": "f50e72c0-8a54-430b-b072-0c156e3f2ecc",
   "metadata": {},
   "source": [
    "## Preprocesamiento: Creación de la clase "
   ]
  },
  {
   "cell_type": "code",
   "execution_count": 89,
   "id": "37a72004-f8e1-4ece-b28a-0f232e5c6c91",
   "metadata": {},
   "outputs": [],
   "source": [
    "import re\n",
    "from collections import Counter\n",
    "\n",
    "class Preprocess:\n",
    "    def __init__(self, corpus_path):\n",
    "        # Lectura del corpus\n",
    "        self.corpus = self.read_conllu_txt(corpus_path)\n",
    "        # Tokenización\n",
    "        self.corpus_tokenized = self.tokenized(self.corpus)\n",
    "        # Lematización (o stemming simplificado)\n",
    "        self.corpus_lemmatized = self.lemmatize(self.corpus_tokenized)\n",
    "        # Remover stopwords\n",
    "        self.corpus_cleaned = self.remove_stopwords(self.corpus_lemmatized)\n",
    "        # Filtrado de palabras raras (palabras con baja frecuencia)\n",
    "        self.final_corpus = self.filter_rare_words(self.corpus_cleaned)\n",
    "\n",
    "    def read_conllu_txt(self, file_path: str) -> str:\n",
    "        \"\"\"Leer el archivo con el corpus.\"\"\"\n",
    "        with open(file_path, 'r', encoding='utf-8') as f:\n",
    "            data = f.read()\n",
    "        return data\n",
    "\n",
    "    def tokenized(self, corpus: str) -> list:\n",
    "        \"\"\"Tokenización del corpus. Separa el texto en palabras.\"\"\"\n",
    "        pattern = re.compile(r'\\b\\w+\\b')\n",
    "        return pattern.findall(corpus.lower())  \n",
    "        \n",
    "    def simple_stemmer(self,word):\n",
    "            suffixes = ['ar', 'er', 'ir', 'ndo', 'ado', 'ido', 'mente', 'ción', 'sión']\n",
    "            for suffix in suffixes:\n",
    "                if word.endswith(suffix):\n",
    "                    return word[:-len(suffix)]\n",
    "            return word\n",
    "        \n",
    "    def lemmatize(self, tokens: list) -> list:\n",
    "        \"\"\"Aplicar un lematizador simple o stemming.\n",
    "        \"\"\"        \n",
    "        return [self.simple_stemmer(word) for word in tokens]\n",
    "\n",
    "    def remove_stopwords(self, tokens: list) -> list:\n",
    "        \"\"\"Eliminar palabras sin aporte (stopwords)\"\"\"\n",
    "        stopwords = set([\n",
    "            'el', 'la', 'los', 'las', 'un', 'una', 'unos', 'unas', 'de', 'del', 'al', 'y', 'o', 'a',\n",
    "            'en', 'con', 'por', 'para', 'que', 'es', 'no', 'si', 'se', 'lo', 'su', 'le', 'mi', 'tu', \n",
    "            'este', 'esta', 'estos', 'estas', 'pero', 'más', 'menos', 'muy', 'también','_', 'ha', 'como', \n",
    "            'sus', 's', 'sobre', 'entre' ,'ya' , 'han', 'ay', 'está', 'me'\n",
    "        ])\n",
    "        return [word for word in tokens if word not in stopwords]\n",
    "\n",
    "    def filter_rare_words(self, tokens: list, min_freq=5) -> list:\n",
    "        \"\"\"Filtrar palabras que aparecen menos de 'min_freq' veces.\"\"\"\n",
    "        # Contar la frecuencia de cada palabra\n",
    "        word_freq = Counter(tokens)\n",
    "        # Filtrar palabras con frecuencia menor o igual a 'min_freq'\n",
    "        return [word for word in tokens if word_freq[word] > min_freq]\n",
    "\n",
    "    def save_preprocessed_corpus(self, output_path):\n",
    "        \"\"\"Guardar el corpus final preprocesado en un archivo.\"\"\"\n",
    "        with open(output_path, 'w', encoding='utf-8') as f:\n",
    "            for word in self.final_corpus:\n",
    "                f.write(f\"{word} \")"
   ]
  },
  {
   "cell_type": "code",
   "execution_count": 90,
   "id": "3bd9f7e5-fe34-4614-8674-a57df8d1fe22",
   "metadata": {},
   "outputs": [],
   "source": [
    "pre = Preprocess('./es_ancora.txt')"
   ]
  },
  {
   "cell_type": "code",
   "execution_count": 91,
   "id": "00a1ff3b-3bee-438b-bfaa-820b6c0a1466",
   "metadata": {},
   "outputs": [
    {
     "name": "stdout",
     "output_type": "stream",
     "text": [
      "['reservas', 'oro', 'divisas', 'rusia', 'subieron', '800', 'millones', 'dólares', '26', 'mayo', '19', '100', 'millones', 'dólares', 'informó', 'hoy', 'comunic', 'banco', 'central', 'según', 'informe', '19', 'mayo', 'reservas', 'oro', 'divisas', 'banco', 'central', 'eran', '18', '300', 'millones', 'dólares', 'activos', 'divisas', 'pod', 'banco', 'central', 'ministerio', 'finanzas', 'dólares', 'estadounidenses', 'valor', 'depende', 'cambio', 'oficial', 'dól', 'establece', 'banco', 'central', 'reservas', 'oro', 'base', '300', 'dólares', 'estadounidenses', 'cada', 'oro', 'presidente', 'generalitat', 'jordi', 'pujol', 'cree', 'necesario', 'gobierno', 'permisos', 'residencia', 'inmigrantes', 'pod', 'respond', 'falta', 'mano', 'obra', 'cataluña', 'según', 'cálculos', 'departamento', 'trabajo', 'impide', 'cubr', '23', '000', 'empleos', 'diversos', 'sectores', 'pujol', 'necesidad', 'medida', 'legal', 'durante', 'cena', 'organizada', 'anoche', 'patronal', 'pequeña', 'empresa', 'advirtió', 'empresarios', 'sindicatos', 'administraciones']\n"
     ]
    }
   ],
   "source": [
    "print(pre.final_corpus[:100])"
   ]
  },
  {
   "cell_type": "code",
   "execution_count": 92,
   "id": "ecd92297-9587-4843-9971-27feb664bee4",
   "metadata": {},
   "outputs": [],
   "source": [
    "# Guardamos el preprocesado\n",
    "pre.save_preprocessed_corpus('./corpus_preprocesado.txt')"
   ]
  },
  {
   "cell_type": "markdown",
   "id": "900152c9-e428-4122-94d3-0fa04c64873f",
   "metadata": {},
   "source": [
    "# Implementación de Técnicas"
   ]
  },
  {
   "cell_type": "markdown",
   "id": "1475b4d8-40cf-43c2-bab9-644ab8162a0e",
   "metadata": {},
   "source": [
    "#### Brown clustering"
   ]
  },
  {
   "cell_type": "code",
   "execution_count": 309,
   "id": "1919fb0d-78d0-44a0-819b-2e036509b07d",
   "metadata": {},
   "outputs": [],
   "source": [
    "import re\n",
    "import math\n",
    "\n",
    "class BrownClustering:\n",
    "    def __init__(self, path_corpus: str):\n",
    "        # Lectura del corpus \n",
    "        self.path_corpus = path_corpus\n",
    "        self.corpus = self.lectura_corpus(self.path_corpus)\n",
    "        \n",
    "        # Tokenizamos el corpus en palabras (limitamos a las primeras 100 palabras)\n",
    "        self.corpus_tokenized = self.tokenizer(self.corpus)[:100]\n",
    "        \n",
    "        # Inicializamos un vocabulario_freq como los unigramas y sus frecuencias en el corpus\n",
    "        self.vocab_freq = self.get_unigrams(self.corpus_tokenized)\n",
    "        \n",
    "        # Inicializamos el conjunto de clases con su frecuencia\n",
    "        self.c_freq = self.update_class_freq(self.vocab_freq)\n",
    "\n",
    "        # Inicializamos el conjunto de bigramas\n",
    "        self.bigrams = self.get_bigrams(self.corpus_tokenized)\n",
    "\n",
    "        # Inicializamos el bigrama _freq\n",
    "        self.bigrams_freq = self.update_bigrams(self.bigrams, self.vocab_freq)\n",
    "\n",
    "        # Inicializamos el c_n_freq\n",
    "        self.c_n_freq = self.update_c_n_freq(self.bigrams, self.vocab_freq)\n",
    "\n",
    "        # Almacenamos las probabilidades de cada palabra\n",
    "        self.prob_words = self.get_prob_words(self.vocab_freq)\n",
    "\n",
    "    def get_prob_words(self, vocab_freq):\n",
    "        N = sum(freq for freq, _ in vocab_freq.values())  # Calcular la suma de las frecuencias una sola vez\n",
    "        return {word: freq / N for word, [freq, _] in vocab_freq.items()}  \n",
    "\n",
    "\n",
    "    def update_c_n_freq(self, bigrams: dict, mapper: dict) -> dict:\n",
    "        # bigrams : { bigrama : freq }\n",
    "        # mapper -> { word : [ freq , clase_pertenece ] }\n",
    "        c_n_freq = {}\n",
    "        for (w1, w2), freq in bigrams.items():\n",
    "            c1, c2 = mapper[w1][1], mapper[w2][1]\n",
    "            c_n_freq[(c1, c2)] = c_n_freq.get((c1, c2), 0) + freq  # Inicializar o incrementar en una sola línea\n",
    "        return c_n_freq\n",
    "\n",
    "    def update_bigrams(self, bigrams: dict, mapper: dict) -> dict:\n",
    "        # Usar comprensión de diccionario para mayor eficiencia\n",
    "        return {b: [freq, (mapper[b[0]][1], mapper[b[1]][1])] for b, freq in bigrams.items()}  \n",
    "\n",
    "    def get_bigrams(self, corpus: list):\n",
    "        bigrams = {}\n",
    "        for i in range(len(corpus) - 1):\n",
    "            b = (corpus[i], corpus[i + 1])\n",
    "            if b not in bigrams:\n",
    "                bigrams[b] = 1\n",
    "            else:\n",
    "                bigrams[b] += 1\n",
    "        return bigrams\n",
    "\n",
    "    def lectura_corpus(self, path):\n",
    "        with open(path, mode='r', encoding='utf-8') as f:\n",
    "            text = f.read()\n",
    "        return text\n",
    "\n",
    "    def tokenizer(self, corpus: str) -> list:\n",
    "        # Tokenizamos por palabras\n",
    "        pattern = re.compile(r'\\b[a-zA-Z]+\\b')\n",
    "        return pattern.findall(corpus)\n",
    "\n",
    "    def get_unigrams(self, corpus: list):\n",
    "        unigrams = {}\n",
    "        cluster = 0\n",
    "        for unigram in corpus:\n",
    "            if unigram not in unigrams:\n",
    "                unigrams[unigram] = [1, cluster]\n",
    "                cluster += 1\n",
    "            else:\n",
    "                unigrams[unigram][0] += 1\n",
    "        return unigrams\n",
    "\n",
    "    def update_class_freq(self, vocab_freq: dict):\n",
    "        # { word : [ freq , clase_pertenece ] }\n",
    "        c_freq = {}\n",
    "        for word, [freq, c] in vocab_freq.items():\n",
    "            if c not in c_freq:\n",
    "                c_freq[c] = freq\n",
    "            else:\n",
    "                c_freq[c] += freq\n",
    "        return c_freq\n",
    "\n",
    "    def get_mapper_fusion(self, mapper: dict, ci: int, cj: int) -> dict:\n",
    "        # Fusionamos el mapper\n",
    "        c_update, c_new = max(ci, cj), min(ci, cj)\n",
    "        for word, [freq, c] in mapper.items():\n",
    "            if c == c_update:\n",
    "                mapper[word] = [freq, c_new]\n",
    "        return mapper\n",
    "\n",
    "    def get_prob_ci(self, new_mapper: dict, ci: int):\n",
    "        p_ci = 0\n",
    "        for w in new_mapper:\n",
    "            if new_mapper[w][1] == ci:\n",
    "                p_ci += self.prob_words[w]\n",
    "        return p_ci\n",
    "\n",
    "    def get_IC(self, new_mapper: dict, new_c_mapper: dict, new_c_b_mapper: dict):\n",
    "        N = sum(new_c_b_mapper.values())  # Total de bigramas\n",
    "    \n",
    "        IC = 0\n",
    "        for ci in new_c_mapper:\n",
    "            for cj in new_c_mapper:\n",
    "                # Probabilidad conjunta P(c_i, c_j)\n",
    "                Pij = new_c_b_mapper.get((ci, cj), 0) / N\n",
    "    \n",
    "                if Pij > 0:  # Evitar log(0)\n",
    "                    # Probabilidades marginales P(c_i) y P(c_j)\n",
    "                    Pi = self.get_prob_ci(new_mapper, ci)\n",
    "                    Pj = self.get_prob_ci(new_mapper, cj)\n",
    "    \n",
    "                    # Cálculo de la información mutua\n",
    "                    IC += Pij * math.log(Pij / (Pi * Pj))\n",
    "    \n",
    "        return IC\n",
    "\n",
    "    def get_words_by_class(self):\n",
    "        # Diccionario para almacenar las palabras agrupadas por clase\n",
    "        words_by_class = {}\n",
    "    \n",
    "        # Recorrer el vocabulario y agrupar las palabras por su clase\n",
    "        for word, [freq, clase] in self.vocab_freq.items():\n",
    "            if clase not in words_by_class:\n",
    "                words_by_class[clase] = []  # Inicializa la lista de palabras para la clase\n",
    "            words_by_class[clase].append(word)\n",
    "    \n",
    "        return words_by_class\n",
    "\n",
    "    def train(self, n_clusters: int, verbose: bool = False):\n",
    "        while len(self.c_freq) > n_clusters:\n",
    "            ic_max = -1\n",
    "            best_combination = None  # Inicializar una variable para almacenar la mejor combinación de clases\n",
    "            n = len(self.c_freq)\n",
    "            for ci in self.c_freq:\n",
    "                for cj in self.c_freq:\n",
    "                    if ci!=cj:\n",
    "                        # Fusionamos el mapper\n",
    "                        new_mapper = self.get_mapper_fusion(self.vocab_freq.copy(), ci, cj)\n",
    "    \n",
    "                        # Actualizamos el c_mapper\n",
    "                        new_c_mapper = self.update_class_freq(new_mapper)\n",
    "    \n",
    "                        # Actualizamos el b_mapper y c_b_mapper\n",
    "                        new_b_mapper = self.update_bigrams(self.bigrams, new_mapper)\n",
    "                        new_c_b_mapper = self.update_c_n_freq(self.bigrams, new_mapper)\n",
    "    \n",
    "                        # Calculamos el I(C)\n",
    "                        ic = self.get_IC(new_mapper, new_c_mapper, new_c_b_mapper)\n",
    "    \n",
    "                        if ic > ic_max:\n",
    "                            ic_max = ic\n",
    "                            best_combination = (new_mapper, new_c_mapper, new_b_mapper, new_c_b_mapper, ci, cj)\n",
    "                        \n",
    "    \n",
    "            # Aplicamos la mejor combinación\n",
    "            self.vocab_freq, self.c_freq, self.bigram_freq, self.c_n_freq, c_i_max, c_j_max = best_combination\n",
    "    \n",
    "            if verbose:\n",
    "                print(f'Fusion de clases: {c_i_max} y {c_j_max}, nuevo IC: {ic_max}')\n",
    "\n",
    "\n",
    "\n",
    "\n",
    "bc = BrownClustering('./corpus_preprocesado.txt')        \n",
    "        "
   ]
  },
  {
   "cell_type": "code",
   "execution_count": 310,
   "id": "5e63e869-5738-4975-b1a6-cd8efc8510c7",
   "metadata": {
    "scrolled": true
   },
   "outputs": [
    {
     "name": "stdout",
     "output_type": "stream",
     "text": [
      "Fusion de clases: 35 y 70, nuevo IC: 3.8961730916080706\n",
      "Fusion de clases: 39 y 71, nuevo IC: 3.8821701182634256\n",
      "Fusion de clases: 41 y 69, nuevo IC: 3.8681671449187807\n",
      "Fusion de clases: 45 y 62, nuevo IC: 3.8541641715741357\n",
      "Fusion de clases: 44 y 61, nuevo IC: 3.8401611982294908\n",
      "Fusion de clases: 43 y 60, nuevo IC: 3.826158224884846\n",
      "Fusion de clases: 42 y 59, nuevo IC: 3.812155251540201\n",
      "Fusion de clases: 4 y 12, nuevo IC: 3.7981522781955555\n",
      "Fusion de clases: 7 y 13, nuevo IC: 3.78414930485091\n",
      "Fusion de clases: 8 y 22, nuevo IC: 3.7701463315062647\n",
      "Fusion de clases: 11 y 15, nuevo IC: 3.7561433581616193\n",
      "Fusion de clases: 16 y 23, nuevo IC: 3.742140384816974\n",
      "Fusion de clases: 18 y 24, nuevo IC: 3.7281374114723285\n",
      "Fusion de clases: 29 y 46, nuevo IC: 3.714134438127683\n",
      "Fusion de clases: 30 y 47, nuevo IC: 3.700131464783038\n",
      "Fusion de clases: 31 y 48, nuevo IC: 3.6861284914383927\n",
      "Fusion de clases: 32 y 49, nuevo IC: 3.6721255180937473\n",
      "Fusion de clases: 29 y 63, nuevo IC: 3.6528372099636015\n",
      "Fusion de clases: 30 y 64, nuevo IC: 3.6335489018334552\n",
      "Fusion de clases: 31 y 65, nuevo IC: 3.6142605937033094\n",
      "Fusion de clases: 32 y 66, nuevo IC: 3.5949722855731636\n",
      "Fusion de clases: 50 y 67, nuevo IC: 3.580969312228518\n",
      "Fusion de clases: 51 y 68, nuevo IC: 3.5669663388838733\n",
      "Fusion de clases: 27 y 45, nuevo IC: 3.5476780307537275\n",
      "Fusion de clases: 26 y 44, nuevo IC: 3.528389722623581\n",
      "Fusion de clases: 33 y 52, nuevo IC: 3.5038160797079354\n",
      "Fusion de clases: 34 y 53, nuevo IC: 3.4898131063632905\n",
      "Fusion de clases: 14 y 54, nuevo IC: 3.465239463447645\n",
      "Fusion de clases: 40 y 72, nuevo IC: 3.4406658205319993\n",
      "Fusion de clases: 41 y 73, nuevo IC: 3.4213775124018535\n",
      "Fusion de clases: 7 y 21, nuevo IC: 3.396803869486207\n",
      "Fusion de clases: 35 y 55, nuevo IC: 3.3722302265705606\n",
      "Fusion de clases: 36 y 56, nuevo IC: 3.352941918440415\n",
      "Fusion de clases: 37 y 57, nuevo IC: 3.333653610310269\n",
      "Fusion de clases: 38 y 58, nuevo IC: 3.314365302180123\n",
      "Fusion de clases: 5 y 20, nuevo IC: 3.288212386502688\n",
      "Fusion de clases: 4 y 19, nuevo IC: 3.2689240783725424\n",
      "Fusion de clases: 3 y 18, nuevo IC: 3.244350435456896\n",
      "Fusion de clases: 2 y 8, nuevo IC: 3.214946075251606\n",
      "Fusion de clases: 25 y 43, nuevo IC: 3.185223976675493\n",
      "Fusion de clases: 39 y 42, nuevo IC: 3.1485003914270573\n",
      "Fusion de clases: 6 y 16, nuevo IC: 3.106491471393121\n",
      "Fusion de clases: 0 y 11, nuevo IC: 3.0629586578432004\n",
      "Fusion de clases: 34 y 40, nuevo IC: 3.0142659895077646\n",
      "Fusion de clases: 14 y 41, nuevo IC: 2.9835269458028297\n",
      "Fusion de clases: 32 y 51, nuevo IC: 2.9348342774673934\n",
      "Fusion de clases: 31 y 50, nuevo IC: 2.9008437892346035\n",
      "Fusion de clases: 5 y 17, nuevo IC: 2.8429788648441656\n",
      "Fusion de clases: 3 y 7, nuevo IC: 2.792951513009084\n",
      "Fusion de clases: 4 y 6, nuevo IC: 2.7383875697520446\n",
      "Fusion de clases: 33 y 39, nuevo IC: 2.6758051946938592\n",
      "Fusion de clases: 32 y 38, nuevo IC: 2.610894803510344\n",
      "Fusion de clases: 31 y 37, nuevo IC: 2.5574351479016184\n",
      "Fusion de clases: 30 y 36, nuevo IC: 2.515426227867682\n"
     ]
    }
   ],
   "source": [
    "bc.train(20,verbose=True)"
   ]
  },
  {
   "cell_type": "code",
   "execution_count": 311,
   "id": "a7563bd2-4397-47e2-b563-1df544baa536",
   "metadata": {},
   "outputs": [
    {
     "data": {
      "text/plain": [
       "{0: ['reservas', 'informe', 'ministerio'],\n",
       " 1: ['oro'],\n",
       " 2: ['divisas', 'comunic', 'establece'],\n",
       " 3: ['rusia', 'hoy', 'activos', 'valor', 'oficial', 'cada'],\n",
       " 4: ['subieron', 'mayo', 'eran', 'finanzas', 'depende', 'base'],\n",
       " 5: ['millones', 'estadounidenses', 'cambio'],\n",
       " 9: ['banco'],\n",
       " 10: ['central'],\n",
       " 14: ['pod', 'impide', 'empresa', 'ciudadano', 'fue'],\n",
       " 25: ['presidente', 'empleos', 'materia'],\n",
       " 26: ['generalitat', 'diversos', 'preven'],\n",
       " 27: ['jordi', 'sectores', 'siniestralidad'],\n",
       " 28: ['pujol'],\n",
       " 29: ['cree', 'necesidad', 'puede'],\n",
       " 30: ['necesario', 'falta', 'medida', 'sindicatos', 'tarde'],\n",
       " 31: ['gobierno', 'mano', 'legal', 'cena', 'administraciones', 'ocho', 'd'],\n",
       " 32: ['permisos',\n",
       "  'obra',\n",
       "  'durante',\n",
       "  'organizada',\n",
       "  'normativa',\n",
       "  'meses',\n",
       "  'permiso'],\n",
       " 33: ['residencia', 'departamento', 'cubr', 'anoche', 'laboral', 'freno'],\n",
       " 34: ['inmigrantes', 'trabajo', 'patronal', 'crecimiento'],\n",
       " 35: ['respond', 'empresarios', 'momento']}"
      ]
     },
     "execution_count": 311,
     "metadata": {},
     "output_type": "execute_result"
    }
   ],
   "source": [
    "bc.get_words_by_class()"
   ]
  },
  {
   "cell_type": "code",
   "execution_count": 312,
   "id": "b20ccf4c-1fda-4ebd-a3f1-f628ad3cf7bf",
   "metadata": {},
   "outputs": [
    {
     "data": {
      "text/plain": [
       "74"
      ]
     },
     "execution_count": 312,
     "metadata": {},
     "output_type": "execute_result"
    }
   ],
   "source": [
    "len(bc.vocab_freq)"
   ]
  },
  {
   "cell_type": "code",
   "execution_count": 313,
   "id": "10f0b7fb-57bb-432e-aa55-19cc001054dc",
   "metadata": {},
   "outputs": [
    {
     "data": {
      "text/plain": [
       "{0: 5,\n",
       " 1: 4,\n",
       " 2: 5,\n",
       " 3: 6,\n",
       " 4: 7,\n",
       " 5: 6,\n",
       " 9: 4,\n",
       " 10: 4,\n",
       " 14: 6,\n",
       " 25: 4,\n",
       " 26: 3,\n",
       " 27: 3,\n",
       " 28: 3,\n",
       " 29: 3,\n",
       " 30: 6,\n",
       " 31: 8,\n",
       " 32: 8,\n",
       " 33: 7,\n",
       " 34: 5,\n",
       " 35: 3}"
      ]
     },
     "execution_count": 313,
     "metadata": {},
     "output_type": "execute_result"
    }
   ],
   "source": [
    "bc.c_freq"
   ]
  },
  {
   "cell_type": "markdown",
   "id": "04fc0d7d-d25e-415f-9e1e-92177e5c8de3",
   "metadata": {},
   "source": [
    "# Latent semantic analysis (LSA) "
   ]
  },
  {
   "cell_type": "code",
   "execution_count": 284,
   "id": "d10d6d4d-7adf-4767-87a6-da29926a6166",
   "metadata": {},
   "outputs": [],
   "source": [
    "import numpy as np\n",
    "import re\n",
    "import math\n",
    "import pandas as pd\n",
    "\n",
    "class LSA:\n",
    "    def __init__(self, documents: list, k:int):\n",
    "        # Almacenamos los documentos (oraciones)\n",
    "        self.documents = documents\n",
    "        # Almacenamos el numero de dimension final (reduccion)\n",
    "        self.k = k\n",
    "        # Generamos la matriz termino-documento\n",
    "        self.matrix = self.get_matrix_t_d(self.documents)\n",
    "        # Generamos el dataframe resumen\n",
    "        self.df_matrix = self.get_dataframe(self.matrix)\n",
    "        # Descomponemos en valores singulares\n",
    "        self.svd_k = self.get_SVD_k(self.matrix, k )\n",
    "\n",
    "    def get_SVD_k( self, matrix, k ):\n",
    "        U,S,VT = np.linalg.svd(matrix)\n",
    "        # U (mxr) S(rxr) V (nxr)\n",
    "        Sk = np.diag(S[:k]) # conveertimos a matriz diagonal\n",
    "        # Uk (mxk) Sk(kxk) Vk (nxk)\n",
    "        Uk, Vk = U[:,:k] , VT.T[:,:k]\n",
    "        return (Uk, Sk, Vk)        \n",
    "\n",
    "    def get_dataframe(self,matrix):\n",
    "        data = pd.DataFrame(matrix, index = self.list_terms , columns= range(1,len(self.documents)+1) )\n",
    "        return data\n",
    "        \n",
    "    def tokenize(self,text:str):\n",
    "        ''' Función que tokeniza un texto en sus palabras\n",
    "        '''\n",
    "        pattern=re.compile(r'\\b\\w+\\b')\n",
    "        return pattern.findall(text.lower())\n",
    "        \n",
    "\n",
    "    def get_terms(self, documents):\n",
    "        ''' Función que retorna un vocabulario de todos los terminos existentes\n",
    "            y sus frecuencias. [  V : {termino : freq} ]\n",
    "        '''\n",
    "        vocab_term = {}\n",
    "        # Recorremos cada documento u oracion\n",
    "        for text in documents:\n",
    "            # Tokenizamos el texto en palabras\n",
    "            text_tokenized = self.tokenize(text)\n",
    "            # Recorremos cada palabra del texto\n",
    "            for word in text_tokenized:\n",
    "                if word not in vocab_term:\n",
    "                    vocab_term[word] = 1\n",
    "                else:\n",
    "                    vocab_term[word] += 1\n",
    "        return vocab_term\n",
    "\n",
    "    def TF(self,i:int,j:int):\n",
    "        # Almacenamos el termino i del conjunto de terminos\n",
    "        termino_i = self.list_terms[i]\n",
    "        # Almacenamos el documento o oracion j \n",
    "        documento_j = self.documents[j]\n",
    "        # Tokenizamos el documento\n",
    "        doc_t = self.tokenize(documento_j)\n",
    "        # Contamos la frecuencia de la palabra en el documento\n",
    "        freq = 0\n",
    "        for word in doc_t:\n",
    "            if termino_i == word:\n",
    "                freq+=1\n",
    "        # Calculamos el TF\n",
    "        tf = freq/len(self.documents)\n",
    "        return tf      \n",
    "\n",
    "    def IDF(self,i:int):\n",
    "        ''' Calcula log(N/Nt)\n",
    "            N = el numero total de documentos\n",
    "            nt = el numero total de documentos que contiene el termino el termino i       \n",
    "        ''' \n",
    "        N = len(self.documents)\n",
    "        \n",
    "        # Almacenamos el termino i del conjunto de terminos\n",
    "        termino_i = self.list_terms[i]\n",
    "        nt = 0\n",
    "        for d in (self.documents):\n",
    "            d_tokenized = self.tokenize(d)\n",
    "            if termino_i in d_tokenized:\n",
    "                nt+=1\n",
    "        return math.log(N/nt)\n",
    "\n",
    "    def TF_IDF(self,i:int,j:int)->float:\n",
    "        TF = self.TF(i,j)\n",
    "        IDF = self.IDF(i)\n",
    "        return TF*IDF\n",
    "\n",
    "    def get_matrix_t_d(self,documents:list):\n",
    "        ''' Función que genera una matriz ( termino, documento )\n",
    "        '''\n",
    "        # Inicializamos el vocabulario de terminos\n",
    "        self.terms = self.get_terms(documents)\n",
    "        # Almacenamos la lista de terminos\n",
    "        self.list_terms = list(self.terms.keys())\n",
    "        # definimos el numero de filas(terminos)\n",
    "        m = len(self.terms)\n",
    "        # definimos el numero de columnas\n",
    "        n = len(documents)\n",
    "\n",
    "        # Inicializamos la matrix ( termino, documento )\n",
    "        matrix = np.zeros((m,n))\n",
    "        #print(matrix)\n",
    "\n",
    "        # Rellenamos la matriz\n",
    "        for i in range(m):\n",
    "            for j in range(n):\n",
    "                matrix[i][j] = self.TF_IDF(i,j)\n",
    "        return matrix\n",
    "\n",
    "    def similitud_terminos(self,i,j):\n",
    "        if isinstance(i,str) and isinstance(j,str):\n",
    "            i = self.list_terms.index(i)\n",
    "            j = self.list_terms.index(j)\n",
    "            \n",
    "        termino_i = self.list_terms[i] \n",
    "        termino_j = self.list_terms[j] \n",
    "        # Fila i de Uk\n",
    "        Uk , Sk , Vk = self.svd_k\n",
    "        ui = Uk[i,:] # (1,k) (k,k)\n",
    "        uj = Uk[j,:] # (1,k) (k,k)\n",
    "        s = np.dot((ui@Sk),(uj@Sk).T)\n",
    "        return s\n",
    "\n",
    "    def similitud_documentos(self,i,j):\n",
    "        i-=1\n",
    "        j-=1\n",
    "        documento_i = self.documents[i] \n",
    "        documento_j = self.documents[j] \n",
    "        # Fila i de (Vk (nxk))\n",
    "        Uk , Sk , Vk = self.svd_k\n",
    "        vi = Vk[i,:] # (1,k) (k,k)\n",
    "        vj = Vk[j,:] # (1,k) (k,k)\n",
    "        s = (vi@Sk)@(vj@Sk).T\n",
    "        return s\n",
    "\n",
    "    def similitud_t_d(self,i,j):\n",
    "        j-=1\n",
    "        if isinstance(i,str):\n",
    "            i = self.list_terms.index(i)\n",
    "        termino_i = self.list_terms[i] \n",
    "        documento_j = self.documents[j] \n",
    "\n",
    "        Uk , Sk , Vk = self.svd_k\n",
    "        ui = Uk[i,:] # (1,k) (k,k)\n",
    "        vj = Vk[j,:] # (1,k) (k,k)\n",
    "        s = (ui@Sk)@(vj@Sk).T\n",
    "        return s\n",
    "  \n",
    "\n"
   ]
  },
  {
   "cell_type": "code",
   "execution_count": 295,
   "id": "987a02f1-a01d-42eb-bb0a-64ab41e31d3e",
   "metadata": {},
   "outputs": [],
   "source": [
    "# Lista de documentos\n",
    "documents = [\n",
    "    \"La playa es calurosa y siempre se acostumbra a tomar un helado, llevar su traje de baño y nadar en el mar.\",\n",
    "    \"No me gusta ir a la playa, los helados son horribles y el mar es frío.\",\n",
    "    \"La noche es la mejor parte del día para estudiar sin problemas cualquier curso.\",\n",
    "    \"La universidad es un tanto complicada, más aún cuando sales a estudiar por las noches.\",\n",
    "    \"La brisa del mar me alegra el día y me relaja escuchar las olas.\",\n",
    "    \"La policía no hace nada por el país, no se siente seguridad en las calles.\",\n",
    "    \"La política requiere un cambio urgente para mejorar la calidad de vida de los ciudadanos.\",\n",
    "    \"Estudiar por la noche es más productivo, sin el ruido y distracciones del día.\",\n",
    "    \"Ir a la playa en verano es una tradición familiar, siempre llevamos toallas, helados y protector solar.\",\n",
    "    \"La corrupción en la política está dañando las instituciones del país y afectando a la sociedad.\"\n",
    "]\n",
    "\n",
    "\n",
    "# Crear una instancia de LSA\n",
    "lsa = LSA(documents, k = 3)"
   ]
  },
  {
   "cell_type": "code",
   "execution_count": 296,
   "id": "ba18208f-ff23-4c6b-9252-6f52345d7cdf",
   "metadata": {},
   "outputs": [],
   "source": [
    "U , S , VT = np.linalg.svd(lsa.matrix)"
   ]
  },
  {
   "cell_type": "code",
   "execution_count": 297,
   "id": "a1ebc8eb-5e73-47b0-912e-c440e5bd23c7",
   "metadata": {},
   "outputs": [
    {
     "name": "stdout",
     "output_type": "stream",
     "text": [
      "[0.86054936 0.75316941 0.73147901 0.71061493 0.69221707 0.66901398\n",
      " 0.63077008 0.62223306 0.54618726 0.48005076]\n"
     ]
    }
   ],
   "source": [
    "print(S)"
   ]
  },
  {
   "cell_type": "code",
   "execution_count": 323,
   "id": "68ad2189-eb8f-45ba-b35d-d38fb8af5564",
   "metadata": {
    "scrolled": true
   },
   "outputs": [
    {
     "data": {
      "text/html": [
       "<div>\n",
       "<style scoped>\n",
       "    .dataframe tbody tr th:only-of-type {\n",
       "        vertical-align: middle;\n",
       "    }\n",
       "\n",
       "    .dataframe tbody tr th {\n",
       "        vertical-align: top;\n",
       "    }\n",
       "\n",
       "    .dataframe thead th {\n",
       "        text-align: right;\n",
       "    }\n",
       "</style>\n",
       "<table border=\"1\" class=\"dataframe\">\n",
       "  <thead>\n",
       "    <tr style=\"text-align: right;\">\n",
       "      <th></th>\n",
       "      <th>1</th>\n",
       "      <th>2</th>\n",
       "      <th>3</th>\n",
       "      <th>4</th>\n",
       "      <th>5</th>\n",
       "      <th>6</th>\n",
       "      <th>7</th>\n",
       "      <th>8</th>\n",
       "      <th>9</th>\n",
       "      <th>10</th>\n",
       "    </tr>\n",
       "  </thead>\n",
       "  <tbody>\n",
       "    <tr>\n",
       "      <th>policía</th>\n",
       "      <td>0.000000</td>\n",
       "      <td>0.000000</td>\n",
       "      <td>0.000000</td>\n",
       "      <td>0.0</td>\n",
       "      <td>0.000000</td>\n",
       "      <td>0.230259</td>\n",
       "      <td>0.0</td>\n",
       "      <td>0.000000</td>\n",
       "      <td>0.000000</td>\n",
       "      <td>0.000000</td>\n",
       "    </tr>\n",
       "    <tr>\n",
       "      <th>familiar</th>\n",
       "      <td>0.000000</td>\n",
       "      <td>0.000000</td>\n",
       "      <td>0.000000</td>\n",
       "      <td>0.0</td>\n",
       "      <td>0.000000</td>\n",
       "      <td>0.000000</td>\n",
       "      <td>0.0</td>\n",
       "      <td>0.000000</td>\n",
       "      <td>0.230259</td>\n",
       "      <td>0.000000</td>\n",
       "    </tr>\n",
       "    <tr>\n",
       "      <th>y</th>\n",
       "      <td>0.102165</td>\n",
       "      <td>0.051083</td>\n",
       "      <td>0.000000</td>\n",
       "      <td>0.0</td>\n",
       "      <td>0.051083</td>\n",
       "      <td>0.000000</td>\n",
       "      <td>0.0</td>\n",
       "      <td>0.051083</td>\n",
       "      <td>0.051083</td>\n",
       "      <td>0.051083</td>\n",
       "    </tr>\n",
       "    <tr>\n",
       "      <th>del</th>\n",
       "      <td>0.000000</td>\n",
       "      <td>0.000000</td>\n",
       "      <td>0.091629</td>\n",
       "      <td>0.0</td>\n",
       "      <td>0.091629</td>\n",
       "      <td>0.000000</td>\n",
       "      <td>0.0</td>\n",
       "      <td>0.091629</td>\n",
       "      <td>0.000000</td>\n",
       "      <td>0.091629</td>\n",
       "    </tr>\n",
       "    <tr>\n",
       "      <th>nada</th>\n",
       "      <td>0.000000</td>\n",
       "      <td>0.000000</td>\n",
       "      <td>0.000000</td>\n",
       "      <td>0.0</td>\n",
       "      <td>0.000000</td>\n",
       "      <td>0.230259</td>\n",
       "      <td>0.0</td>\n",
       "      <td>0.000000</td>\n",
       "      <td>0.000000</td>\n",
       "      <td>0.000000</td>\n",
       "    </tr>\n",
       "    <tr>\n",
       "      <th>está</th>\n",
       "      <td>0.000000</td>\n",
       "      <td>0.000000</td>\n",
       "      <td>0.000000</td>\n",
       "      <td>0.0</td>\n",
       "      <td>0.000000</td>\n",
       "      <td>0.000000</td>\n",
       "      <td>0.0</td>\n",
       "      <td>0.000000</td>\n",
       "      <td>0.000000</td>\n",
       "      <td>0.230259</td>\n",
       "    </tr>\n",
       "    <tr>\n",
       "      <th>productivo</th>\n",
       "      <td>0.000000</td>\n",
       "      <td>0.000000</td>\n",
       "      <td>0.000000</td>\n",
       "      <td>0.0</td>\n",
       "      <td>0.000000</td>\n",
       "      <td>0.000000</td>\n",
       "      <td>0.0</td>\n",
       "      <td>0.230259</td>\n",
       "      <td>0.000000</td>\n",
       "      <td>0.000000</td>\n",
       "    </tr>\n",
       "    <tr>\n",
       "      <th>mejor</th>\n",
       "      <td>0.000000</td>\n",
       "      <td>0.000000</td>\n",
       "      <td>0.230259</td>\n",
       "      <td>0.0</td>\n",
       "      <td>0.000000</td>\n",
       "      <td>0.000000</td>\n",
       "      <td>0.0</td>\n",
       "      <td>0.000000</td>\n",
       "      <td>0.000000</td>\n",
       "      <td>0.000000</td>\n",
       "    </tr>\n",
       "    <tr>\n",
       "      <th>siempre</th>\n",
       "      <td>0.160944</td>\n",
       "      <td>0.000000</td>\n",
       "      <td>0.000000</td>\n",
       "      <td>0.0</td>\n",
       "      <td>0.000000</td>\n",
       "      <td>0.000000</td>\n",
       "      <td>0.0</td>\n",
       "      <td>0.000000</td>\n",
       "      <td>0.160944</td>\n",
       "      <td>0.000000</td>\n",
       "    </tr>\n",
       "    <tr>\n",
       "      <th>gusta</th>\n",
       "      <td>0.000000</td>\n",
       "      <td>0.230259</td>\n",
       "      <td>0.000000</td>\n",
       "      <td>0.0</td>\n",
       "      <td>0.000000</td>\n",
       "      <td>0.000000</td>\n",
       "      <td>0.0</td>\n",
       "      <td>0.000000</td>\n",
       "      <td>0.000000</td>\n",
       "      <td>0.000000</td>\n",
       "    </tr>\n",
       "    <tr>\n",
       "      <th>la</th>\n",
       "      <td>0.000000</td>\n",
       "      <td>0.000000</td>\n",
       "      <td>0.000000</td>\n",
       "      <td>0.0</td>\n",
       "      <td>0.000000</td>\n",
       "      <td>0.000000</td>\n",
       "      <td>0.0</td>\n",
       "      <td>0.000000</td>\n",
       "      <td>0.000000</td>\n",
       "      <td>0.000000</td>\n",
       "    </tr>\n",
       "    <tr>\n",
       "      <th>seguridad</th>\n",
       "      <td>0.000000</td>\n",
       "      <td>0.000000</td>\n",
       "      <td>0.000000</td>\n",
       "      <td>0.0</td>\n",
       "      <td>0.000000</td>\n",
       "      <td>0.230259</td>\n",
       "      <td>0.0</td>\n",
       "      <td>0.000000</td>\n",
       "      <td>0.000000</td>\n",
       "      <td>0.000000</td>\n",
       "    </tr>\n",
       "    <tr>\n",
       "      <th>noche</th>\n",
       "      <td>0.000000</td>\n",
       "      <td>0.000000</td>\n",
       "      <td>0.160944</td>\n",
       "      <td>0.0</td>\n",
       "      <td>0.000000</td>\n",
       "      <td>0.000000</td>\n",
       "      <td>0.0</td>\n",
       "      <td>0.160944</td>\n",
       "      <td>0.000000</td>\n",
       "      <td>0.000000</td>\n",
       "    </tr>\n",
       "    <tr>\n",
       "      <th>siente</th>\n",
       "      <td>0.000000</td>\n",
       "      <td>0.000000</td>\n",
       "      <td>0.000000</td>\n",
       "      <td>0.0</td>\n",
       "      <td>0.000000</td>\n",
       "      <td>0.230259</td>\n",
       "      <td>0.0</td>\n",
       "      <td>0.000000</td>\n",
       "      <td>0.000000</td>\n",
       "      <td>0.000000</td>\n",
       "    </tr>\n",
       "  </tbody>\n",
       "</table>\n",
       "</div>"
      ],
      "text/plain": [
       "                  1         2         3    4         5         6    7   \\\n",
       "policía     0.000000  0.000000  0.000000  0.0  0.000000  0.230259  0.0   \n",
       "familiar    0.000000  0.000000  0.000000  0.0  0.000000  0.000000  0.0   \n",
       "y           0.102165  0.051083  0.000000  0.0  0.051083  0.000000  0.0   \n",
       "del         0.000000  0.000000  0.091629  0.0  0.091629  0.000000  0.0   \n",
       "nada        0.000000  0.000000  0.000000  0.0  0.000000  0.230259  0.0   \n",
       "está        0.000000  0.000000  0.000000  0.0  0.000000  0.000000  0.0   \n",
       "productivo  0.000000  0.000000  0.000000  0.0  0.000000  0.000000  0.0   \n",
       "mejor       0.000000  0.000000  0.230259  0.0  0.000000  0.000000  0.0   \n",
       "siempre     0.160944  0.000000  0.000000  0.0  0.000000  0.000000  0.0   \n",
       "gusta       0.000000  0.230259  0.000000  0.0  0.000000  0.000000  0.0   \n",
       "la          0.000000  0.000000  0.000000  0.0  0.000000  0.000000  0.0   \n",
       "seguridad   0.000000  0.000000  0.000000  0.0  0.000000  0.230259  0.0   \n",
       "noche       0.000000  0.000000  0.160944  0.0  0.000000  0.000000  0.0   \n",
       "siente      0.000000  0.000000  0.000000  0.0  0.000000  0.230259  0.0   \n",
       "\n",
       "                  8         9         10  \n",
       "policía     0.000000  0.000000  0.000000  \n",
       "familiar    0.000000  0.230259  0.000000  \n",
       "y           0.051083  0.051083  0.051083  \n",
       "del         0.091629  0.000000  0.091629  \n",
       "nada        0.000000  0.000000  0.000000  \n",
       "está        0.000000  0.000000  0.230259  \n",
       "productivo  0.230259  0.000000  0.000000  \n",
       "mejor       0.000000  0.000000  0.000000  \n",
       "siempre     0.000000  0.160944  0.000000  \n",
       "gusta       0.000000  0.000000  0.000000  \n",
       "la          0.000000  0.000000  0.000000  \n",
       "seguridad   0.000000  0.000000  0.000000  \n",
       "noche       0.160944  0.000000  0.000000  \n",
       "siente      0.000000  0.000000  0.000000  "
      ]
     },
     "execution_count": 323,
     "metadata": {},
     "output_type": "execute_result"
    }
   ],
   "source": [
    "lsa.df_matrix.sample(14)"
   ]
  },
  {
   "cell_type": "code",
   "execution_count": 322,
   "id": "3e0203a0-c54e-4d01-b3a9-b63b46fa6a37",
   "metadata": {},
   "outputs": [],
   "source": [
    "# Buscamos las palabras con mejores similitudes de terminos\n",
    "# target : \"mar\"\n",
    "\n",
    "s_t = {}\n",
    "for i in lsa.list_terms:\n",
    "    s_t[\"mar - \"+i] = lsa.similitud_terminos(\"mar\",i)"
   ]
  },
  {
   "cell_type": "code",
   "execution_count": 317,
   "id": "4aaf5e05-0137-40f9-b4fa-d1702c4c6ebd",
   "metadata": {},
   "outputs": [],
   "source": [
    "ord_s_t = sorted(s_t.items(),key = lambda x:x[1],reverse=True)"
   ]
  },
  {
   "cell_type": "code",
   "execution_count": 318,
   "id": "8cc90cc6-4ca5-4aa2-baac-3f5b2f1a6de6",
   "metadata": {},
   "outputs": [
    {
     "name": "stdout",
     "output_type": "stream",
     "text": [
      "mar - siempre: 0.026521398795850294\n",
      "mar - playa: 0.025440720357827473\n",
      "mar - de: 0.0235562076827481\n",
      "mar - se: 0.02317330031783334\n",
      "mar - calurosa: 0.022690179099762956\n"
     ]
    }
   ],
   "source": [
    "for term,similitud in ord_s_t[:5]:\n",
    "    print(f'{term}: {similitud}')    "
   ]
  },
  {
   "cell_type": "code",
   "execution_count": 319,
   "id": "ee6afdf1-feab-4643-bfde-d1af606ee664",
   "metadata": {},
   "outputs": [],
   "source": [
    "# Creamos una función para probar para cualquier target\n",
    "def get_top_similitud(target,k):\n",
    "    s_t = {}\n",
    "    for i in lsa.list_terms:\n",
    "        s_t[f\"{target} - \"+i] = lsa.similitud_terminos(target,i)\n",
    "    ord_s_t = sorted(s_t.items(),key = lambda x:x[1],reverse=True)\n",
    "    for term,similitud in ord_s_t[:k]:\n",
    "        print(f'{term}: {similitud}')"
   ]
  },
  {
   "cell_type": "code",
   "execution_count": 324,
   "id": "f5f73914-6b1d-4b2b-aab3-24b0079d002b",
   "metadata": {},
   "outputs": [
    {
     "name": "stdout",
     "output_type": "stream",
     "text": [
      "policía - no: 0.044790142536814105\n",
      "policía - policía: 0.026677562268453307\n",
      "policía - hace: 0.026677562268453307\n",
      "policía - nada: 0.026677562268453307\n",
      "policía - siente: 0.026677562268453307\n",
      "policía - seguridad: 0.026677562268453307\n"
     ]
    }
   ],
   "source": [
    "get_top_similitud(\"policía\",6)"
   ]
  },
  {
   "cell_type": "code",
   "execution_count": 300,
   "id": "2ee92457-6b13-4390-86c9-3c494b0e51da",
   "metadata": {},
   "outputs": [],
   "source": [
    "# Veamos la similitud entre el primer documento y los demas\n",
    "s = {}\n",
    "for i in range(2,len(lsa.documents)+1):\n",
    "    s[i]= lsa.similitud_documentos(1,i)"
   ]
  },
  {
   "cell_type": "code",
   "execution_count": 301,
   "id": "388ca90d-596e-4c89-bcf5-5da66e754571",
   "metadata": {},
   "outputs": [
    {
     "name": "stdout",
     "output_type": "stream",
     "text": [
      "Primer documento: La playa es calurosa y siempre se acostumbra a tomar un helado, llevar su traje de baño y nadar en el mar.\n"
     ]
    }
   ],
   "source": [
    "print(f'Primer documento: {lsa.documents[0]}')"
   ]
  },
  {
   "cell_type": "code",
   "execution_count": 302,
   "id": "d22e702f-ae6b-4b83-9386-4b6dca379e0f",
   "metadata": {},
   "outputs": [],
   "source": [
    "ord_s = sorted( s.items(), key=lambda x: x[1] , reverse=True)"
   ]
  },
  {
   "cell_type": "code",
   "execution_count": 304,
   "id": "8f27fea3-cdeb-49d0-b5d0-380ccd4a3d20",
   "metadata": {},
   "outputs": [
    {
     "name": "stdout",
     "output_type": "stream",
     "text": [
      "Documento 9 -Valor similitud: 0.23715851141961342\n",
      "\tIr a la playa en verano es una tradición familiar, siempre llevamos toallas, helados y protector solar.\n",
      "\n",
      "Documento 7 -Valor similitud: 0.20603307768363885\n",
      "\tLa política requiere un cambio urgente para mejorar la calidad de vida de los ciudadanos.\n",
      "\n",
      "Documento 2 -Valor similitud: 0.11910083533187499\n",
      "\tNo me gusta ir a la playa, los helados son horribles y el mar es frío.\n",
      "\n",
      "Documento 5 -Valor similitud: 0.034728101977897906\n",
      "\tLa brisa del mar me alegra el día y me relaja escuchar las olas.\n",
      "\n",
      "Documento 10 -Valor similitud: 0.031070297171169825\n",
      "\tLa corrupción en la política está dañando las instituciones del país y afectando a la sociedad.\n",
      "\n",
      "Documento 6 -Valor similitud: 0.013310438583593584\n",
      "\tLa policía no hace nada por el país, no se siente seguridad en las calles.\n",
      "\n",
      "Documento 4 -Valor similitud: 0.007223818534109153\n",
      "\tLa universidad es un tanto complicada, más aún cuando sales a estudiar por las noches.\n",
      "\n",
      "Documento 8 -Valor similitud: -0.00012035880791517323\n",
      "\tEstudiar por la noche es más productivo, sin el ruido y distracciones del día.\n",
      "\n",
      "Documento 3 -Valor similitud: -0.001802418114973732\n",
      "\tLa noche es la mejor parte del día para estudiar sin problemas cualquier curso.\n",
      "\n"
     ]
    }
   ],
   "source": [
    "for i,similitud in ord_s :\n",
    "    print(f'Documento {i} -Valor similitud: {similitud}\\n\\t{lsa.documents[i-1]}\\n')\n"
   ]
  },
  {
   "cell_type": "markdown",
   "id": "25b93416-cf85-4d2d-aa85-28c493d5c0ac",
   "metadata": {},
   "source": [
    "# Word2Vec"
   ]
  },
  {
   "cell_type": "markdown",
   "id": "92c8a2f3-33e3-4cf4-af0b-c392e483bbc1",
   "metadata": {},
   "source": [
    "## Entrenamiento de un Modelo CBOW (Continuous Bag of Words)"
   ]
  },
  {
   "cell_type": "markdown",
   "id": "5ca6db1c-aadd-4e2b-8a9f-9547a062aec3",
   "metadata": {},
   "source": [
    "El modelo CBOW (Continuous Bag of Words) es un modelo de lenguaje utilizado en procesamiento de lenguaje natural (NLP) para aprender representaciones vectoriales de palabras, conocido como \"embeddings\". En CBOW, el objetivo es predecir una palabra objetivo (target) a partir de su contexto (las palabras vecinas). Este modelo es particularmente útil para capturar relaciones semánticas entre palabras.\n",
    "\n",
    "### Funcionamiento Básico\n",
    "En CBOW, el contexto de una palabra es representado por las palabras adyacentes. El modelo intenta predecir la palabra objetivo utilizando la **media de los embeddings** de las palabras de su contexto."
   ]
  },
  {
   "cell_type": "markdown",
   "id": "7610bb6e-9a5e-446f-900a-5c28a411640f",
   "metadata": {},
   "source": [
    "#### Definición de las Matrices de Pesos"
   ]
  },
  {
   "cell_type": "markdown",
   "id": "e80efda0-39c8-4ea7-9d59-68cd29a2e8ac",
   "metadata": {},
   "source": [
    "CBOW usa dos matrices de pesos:\n",
    "\n",
    "- $ W1_{(vocab-size, embedding-dim)}$: Representa el mapeo de palabras del vocabulario al espacio de embeddings.\n",
    "- $ W2_{(embedding-dim,vocab-size)}$: Proyecta los embeddings al **espacio de salida**, es decir, el vocabulario."
   ]
  },
  {
   "cell_type": "code",
   "execution_count": 31,
   "id": "8b8038e2-941c-4811-9bc1-f148963af1f8",
   "metadata": {},
   "outputs": [],
   "source": [
    "import numpy as np\n",
    "\n",
    "# Configuración del vocabulario \n",
    "vocab = [\"comida\", \"saludable\", \"fruta\", \"vegetal\", \"ejercicio\", \"dieta\"]\n",
    "\n",
    "# Definición del tamaño del vocabulario y la dimensión del embedding\n",
    "vocab_size = len(vocab) # Tamaño del vocabulario (número de palabras distintas)\n",
    "embedding_dim = 3  # Dimensión del espacio de embedding\n",
    "\n",
    "\n",
    "# Inicialización aleatoria de las matrices de pesos\n",
    "W1 = np.random.rand(vocab_size, embedding_dim)\n",
    "W2 = np.random.rand(embedding_dim, vocab_size)"
   ]
  },
  {
   "cell_type": "code",
   "execution_count": 32,
   "id": "f64218ae-bd46-4671-a221-e98cecbe75ef",
   "metadata": {},
   "outputs": [
    {
     "name": "stdout",
     "output_type": "stream",
     "text": [
      "[[0.47447791 0.07320595 0.21488767]\n",
      " [0.18179717 0.39568589 0.45661862]\n",
      " [0.49780696 0.38429341 0.57722565]\n",
      " [0.47247498 0.2618506  0.33040856]\n",
      " [0.98255717 0.56136288 0.56939379]\n",
      " [0.64397871 0.61475484 0.55014181]]\n"
     ]
    }
   ],
   "source": [
    "print(W1)"
   ]
  },
  {
   "cell_type": "code",
   "execution_count": 33,
   "id": "328c740e-591b-43f8-9d2c-675181d03b08",
   "metadata": {
    "scrolled": true
   },
   "outputs": [
    {
     "name": "stdout",
     "output_type": "stream",
     "text": [
      "[[0.44284935 0.72053362 0.84686077 0.93479358 0.34808137 0.67055097]\n",
      " [0.4859237  0.40478613 0.52593498 0.29269393 0.71861158 0.18909701]\n",
      " [0.2277968  0.82732985 0.60364383 0.73194855 0.04315044 0.52752363]]\n"
     ]
    }
   ],
   "source": [
    "print(W2)"
   ]
  },
  {
   "cell_type": "markdown",
   "id": "cd809a5f-5e1b-4b89-b682-8f867b63a311",
   "metadata": {},
   "source": [
    "### Definir el contexto y la palabra objetivo"
   ]
  },
  {
   "cell_type": "code",
   "execution_count": 34,
   "id": "851f5619-2a19-49bd-b1a5-7c2531b36504",
   "metadata": {},
   "outputs": [],
   "source": [
    "# Definir el contexto y la palabra objetivo\n",
    "context = [\"comida\", \"saludable\", \"fruta\"]\n",
    "target_word = \"dieta\"\n",
    "\n",
    "# Función para obtener el índice de una palabra en el vocabulario\n",
    "def word_to_index(word):\n",
    "    return vocab.index(word)\n",
    "\n",
    "# Función para convertir palabras a sus embeddings\n",
    "def get_context_embeddings(context_words):\n",
    "    context_indices = [word_to_index(word) for word in context_words]\n",
    "    return np.mean(W1[context_indices], axis=0)\n"
   ]
  },
  {
   "cell_type": "markdown",
   "id": "df9ae4bb-f1a0-408d-b884-e2a418fb089b",
   "metadata": {},
   "source": [
    "En este paso, calculamos el promedio de los embeddings de las palabras de contexto para generar la representación del contexto."
   ]
  },
  {
   "cell_type": "code",
   "execution_count": 35,
   "id": "4ceb6a64-33ca-4ad4-a5f9-25e5cf2a5ad7",
   "metadata": {},
   "outputs": [
    {
     "name": "stdout",
     "output_type": "stream",
     "text": [
      "Embedding del contexto: [0.38469401 0.28439508 0.41624398]\n"
     ]
    }
   ],
   "source": [
    "import numpy as np\n",
    "# Calcular el embedding promedio del contexto\n",
    "context_embedding = get_context_embeddings(context)\n",
    "print(\"Embedding del contexto:\", context_embedding)\n"
   ]
  },
  {
   "cell_type": "markdown",
   "id": "d2f9fb1f-b2d0-4c9b-ba08-086e0b7f6b0f",
   "metadata": {},
   "source": [
    "#### Función de activación softmax"
   ]
  },
  {
   "cell_type": "markdown",
   "id": "8630c596-1748-4ded-afe6-4613b042363f",
   "metadata": {},
   "source": [
    "Usaremos la función softmax para convertir la salida en una distribución de probabilidad sobre las palabras del vocabulario."
   ]
  },
  {
   "cell_type": "code",
   "execution_count": 46,
   "id": "615fa1be-d796-47ac-bb0d-90bb5e641eee",
   "metadata": {},
   "outputs": [
    {
     "name": "stdout",
     "output_type": "stream",
     "text": [
      "Predicción de la palabra objetivo (probabilidades): [0.13739304 0.19174111 0.18982252 0.1938317  0.1310667  0.15614493]\n"
     ]
    }
   ],
   "source": [
    "# Función softmax\n",
    "def softmax(x):\n",
    "    exp_x = np.exp(x - np.max(x))  # estabilidad numérica\n",
    "    return exp_x / exp_x.sum()\n",
    "\n",
    "# Cálculo de la predicción\n",
    "output_layer = np.dot(context_embedding, W2)\n",
    "y_hat = softmax(output_layer)\n",
    "print(\"Predicción de la palabra objetivo (probabilidades):\", y_hat)\n"
   ]
  },
  {
   "cell_type": "markdown",
   "id": "7d48d124-e503-49dc-a4ee-8d4871b5b0f9",
   "metadata": {},
   "source": [
    "### Calcular el Error y Realizar Backpropagation"
   ]
  },
  {
   "cell_type": "markdown",
   "id": "d3e706b4-a904-4c61-8f4b-a951c0ab84a6",
   "metadata": {},
   "source": [
    " calculamos el error entre la predicción y el valor real. Luego, aplicamos el algoritmo de backpropagation para actualizar las matrices de peso."
   ]
  },
  {
   "cell_type": "code",
   "execution_count": 47,
   "id": "1819b305-05c8-4488-b7f6-3d3c3c202662",
   "metadata": {},
   "outputs": [
    {
     "name": "stdout",
     "output_type": "stream",
     "text": [
      "Error: [ 0.13739304  0.19174111  0.18982252  0.1938317   0.1310667  -0.84385507]\n"
     ]
    }
   ],
   "source": [
    "# Codificación one-hot de la palabra objetivo\n",
    "target_index = word_to_index(target_word)\n",
    "y_true = np.zeros(vocab_size)\n",
    "y_true[target_index] = 1\n",
    "\n",
    "# Cálculo del error\n",
    "error = y_hat - y_true\n",
    "print(\"Error:\", error)\n",
    "\n",
    "# Calcular los gradientes para backpropagation\n",
    "learning_rate = 0.01\n",
    "dW2 = np.outer(context_embedding, error)\n",
    "dW1 = np.dot(error, W2.T) / len(context)\n",
    "\n",
    "# Actualizar matrices de peso\n",
    "W2 -= learning_rate * dW2\n",
    "for word in context:\n",
    "    W1[word_to_index(word)] -= learning_rate * dW1\n"
   ]
  },
  {
   "cell_type": "markdown",
   "id": "105fa8c4-c67b-41c9-9592-0c2ee9007988",
   "metadata": {},
   "source": [
    "### Implementación de Múltiples Épocas (Clase CBOW)"
   ]
  },
  {
   "cell_type": "code",
   "execution_count": 50,
   "id": "01cd5eef-c3ea-40e7-b9c1-a3cb980de877",
   "metadata": {},
   "outputs": [],
   "source": [
    "import re\n",
    "import numpy as np\n",
    "\n",
    "class CBOW:\n",
    "    def __init__(self, path_corpus: str, embedding_dim=10, learning_rate=0.01, window_size=2):\n",
    "        # Configuración del modelo\n",
    "        self.embedding_dim = embedding_dim\n",
    "        self.learning_rate = learning_rate\n",
    "        self.window_size = window_size\n",
    "\n",
    "        # Cargar y tokenizar el corpus\n",
    "        self.path_corpus = path_corpus\n",
    "        self.corpus = self.lectura_corpus(self.path_corpus)\n",
    "        self.corpus_tokenized = self.tokenizer(self.corpus)\n",
    "\n",
    "        # Construcción del vocabulario y frecuencias de unigramas\n",
    "        self.vocab_freq = self.get_unigrams(self.corpus_tokenized)\n",
    "        self.vocab_size = len(self.vocab_freq)\n",
    "        \n",
    "        # Inicialización de matrices de pesos\n",
    "        self.W1 = np.random.rand(self.vocab_size, self.embedding_dim)\n",
    "        self.W2 = np.random.rand(self.embedding_dim, self.vocab_size)\n",
    "\n",
    "    def lectura_corpus(self, path):\n",
    "        # Leer el archivo de texto\n",
    "        with open(path, mode='r', encoding='utf-8') as f:\n",
    "            text = f.read().lower()\n",
    "        return text\n",
    "\n",
    "    def tokenizer(self, corpus: str) -> list:\n",
    "        # Tokenización manual por palabras, eliminando puntuación\n",
    "        pattern = re.compile(r'\\b[a-zA-Z]+\\b')\n",
    "        return pattern.findall(corpus)\n",
    "\n",
    "    def get_unigrams(self, corpus: list):\n",
    "        # Crear el vocabulario y calcular frecuencia de unigramas\n",
    "        unigrams = {}\n",
    "        for word in corpus:\n",
    "            if word not in unigrams:\n",
    "                unigrams[word] = len(unigrams)  # Asignar un índice único a cada palabra\n",
    "        return unigrams\n",
    "\n",
    "    def generate_training_data(self):\n",
    "        # Generar pares (contexto, objetivo) para entrenamiento\n",
    "        data = []\n",
    "        for i in range(self.window_size, len(self.corpus_tokenized) - self.window_size):\n",
    "            context = self.corpus_tokenized[i - self.window_size:i] + self.corpus_tokenized[i + 1:i + 1 + self.window_size]\n",
    "            target = self.corpus_tokenized[i]\n",
    "            data.append((context, target))\n",
    "        return data\n",
    "\n",
    "    def word_to_index(self, word):\n",
    "        # Obtener el índice de una palabra en el vocabulario\n",
    "        return self.vocab_freq.get(word, -1)\n",
    "\n",
    "    def train(self, epochs=10):\n",
    "        # Generar datos de entrenamiento\n",
    "        training_data = self.generate_training_data()\n",
    "\n",
    "        # Entrenamiento del modelo\n",
    "        for epoch in range(epochs):\n",
    "            total_loss = 0\n",
    "            for context_words, target_word in training_data:\n",
    "                # Forward pass\n",
    "                context_indices = [self.word_to_index(word) for word in context_words]\n",
    "                context_embedding = np.mean([self.W1[idx] for idx in context_indices if idx != -1], axis=0)\n",
    "                \n",
    "                # Predicción con softmax\n",
    "                output_layer = np.dot(context_embedding, self.W2)\n",
    "                y_hat = self.softmax(output_layer)\n",
    "\n",
    "                # Calcular el error y retropropagar\n",
    "                target_index = self.word_to_index(target_word)\n",
    "                if target_index == -1:\n",
    "                    continue  # Saltar si la palabra objetivo no está en el vocabulario\n",
    "                y_true = np.zeros(self.vocab_size)\n",
    "                y_true[target_index] = 1\n",
    "                error = y_hat - y_true\n",
    "                total_loss += -np.log(y_hat[target_index])\n",
    "\n",
    "                # Calcular gradientes\n",
    "                dW2 = np.outer(context_embedding, error)\n",
    "                dW1 = np.dot(error, self.W2.T) / len(context_words)\n",
    "\n",
    "                # Actualizar pesos\n",
    "                self.W2 -= self.learning_rate * dW2\n",
    "                for idx in context_indices:\n",
    "                    if idx != -1:\n",
    "                        self.W1[idx] -= self.learning_rate * dW1\n",
    "\n",
    "            print(f\"Epoch {epoch+1}, Pérdida total: {total_loss}\")\n",
    "\n",
    "    def softmax(self, x):\n",
    "        # Función softmax para convertir en probabilidades\n",
    "        exp_x = np.exp(x - np.max(x))  # Estabilidad numérica\n",
    "        return exp_x / exp_x.sum()"
   ]
  },
  {
   "cell_type": "code",
   "execution_count": 51,
   "id": "0f5e76b1-674a-4f9f-965f-c4021eabbd27",
   "metadata": {},
   "outputs": [
    {
     "name": "stdout",
     "output_type": "stream",
     "text": [
      "Epoch 1, Pérdida total: 1169647.5467188542\n",
      "Epoch 2, Pérdida total: 1136763.6994282864\n",
      "Epoch 3, Pérdida total: 1131022.8828293495\n",
      "Epoch 4, Pérdida total: 1127953.7253074294\n",
      "Epoch 5, Pérdida total: 1125473.787529957\n",
      "Epoch 6, Pérdida total: 1123180.657998894\n",
      "Epoch 7, Pérdida total: 1120930.7515392546\n",
      "Epoch 8, Pérdida total: 1118649.3266945228\n",
      "Epoch 9, Pérdida total: 1116246.2878479958\n",
      "Epoch 10, Pérdida total: 1113687.1420018906\n"
     ]
    }
   ],
   "source": [
    "# Crear una instancia del modelo CBOW\n",
    "model = CBOW(path_corpus='./corpus_preprocesado.txt', embedding_dim=10, learning_rate=0.01, window_size=2)\n",
    "\n",
    "# Entrenar el modelo con 10 épocas\n",
    "model.train(epochs=10)"
   ]
  },
  {
   "cell_type": "code",
   "execution_count": 52,
   "id": "77e54353-30fa-4f20-9add-6cf896fe2a56",
   "metadata": {
    "scrolled": true
   },
   "outputs": [
    {
     "data": {
      "text/plain": [
       "array([0.91570967, 0.47086733, 0.11068263, 0.94227287, 0.66897521,\n",
       "       0.38132738, 0.30884651, 0.29975432, 0.47156777, 0.15490389])"
      ]
     },
     "execution_count": 52,
     "metadata": {},
     "output_type": "execute_result"
    }
   ],
   "source": [
    "model.W1[model.word_to_index(\"perro\")]"
   ]
  },
  {
   "cell_type": "code",
   "execution_count": 60,
   "id": "1874c02d-f59a-499f-b645-76c510f19dc2",
   "metadata": {},
   "outputs": [
    {
     "data": {
      "text/plain": [
       "[('reservas', 0),\n",
       " ('oro', 1),\n",
       " ('divisas', 2),\n",
       " ('rusia', 3),\n",
       " ('subieron', 4),\n",
       " ('millones', 5),\n",
       " ('mayo', 6),\n",
       " ('hoy', 7),\n",
       " ('comunic', 8),\n",
       " ('banco', 9)]"
      ]
     },
     "execution_count": 60,
     "metadata": {},
     "output_type": "execute_result"
    }
   ],
   "source": [
    "sorted(model.vocab_freq.items(),key=lambda x: x[1])[:10]"
   ]
  },
  {
   "cell_type": "code",
   "execution_count": 57,
   "id": "e0fe95a2-a54e-4fa6-a298-32b78f7f41b7",
   "metadata": {},
   "outputs": [
    {
     "name": "stdout",
     "output_type": "stream",
     "text": [
      "Embedding de la palabra 'banco': [ 0.77193698  0.59217798  1.26237157  0.76121653  0.66074864  0.58153191\n",
      "  0.3359068   0.42175322 -0.01057051  0.1800092 ]\n",
      "Embedding de la palabra 'finanzas': [ 0.67061719  0.61662113  0.97395911  0.91765037  0.51880896 -0.01679542\n",
      "  0.64156136 -0.0878074   0.87898887  0.3380141 ]\n",
      "Embedding de la palabra 'valor': [0.13874374 0.96748415 0.58792378 0.80494675 0.57097875 0.73314111\n",
      " 0.29649246 1.19444946 0.18205109 0.79156565]\n",
      "Embedding de la palabra 'presidente': [ 1.6986896   1.24095077  1.63291754  0.23428961 -0.53429421  0.65251895\n",
      " -0.15359939 -0.47328901 -0.92867692  0.11167905]\n",
      "Embedding de la palabra 'ciudadano': [0.68927727 0.85132164 0.28179425 1.05463194 0.73001378 0.71066437\n",
      " 0.60975327 0.11238979 0.69060419 0.81116487]\n"
     ]
    }
   ],
   "source": [
    "# Mostrar los embeddings de varias palabras en el vocabulario\n",
    "for word in ['banco', 'finanzas', 'valor', 'presidente', 'ciudadano']:\n",
    "    if word in model.vocab_freq:\n",
    "        idx = model.word_to_index(word)\n",
    "        print(f\"Embedding de la palabra '{word}': {model.W1[idx]}\")\n",
    "    else:\n",
    "        print(f\"La palabra '{word}' no está en el vocabulario.\")"
   ]
  },
  {
   "cell_type": "markdown",
   "id": "51765985-f057-4170-bed8-69687351445d",
   "metadata": {},
   "source": [
    "### Reduciendo la Dimensionalidad con PCA"
   ]
  },
  {
   "cell_type": "code",
   "execution_count": 61,
   "id": "f84e5a0c-d294-422f-b9dc-bfc51b9b2596",
   "metadata": {},
   "outputs": [
    {
     "data": {
      "image/png": "[encoded data removed]",
      "text/plain": [
       "<Figure size 800x600 with 1 Axes>"
      ]
     },
     "metadata": {},
     "output_type": "display_data"
    }
   ],
   "source": [
    "from sklearn.decomposition import PCA\n",
    "import matplotlib.pyplot as plt\n",
    "\n",
    "def plot_embeddings(model, words):\n",
    "    # Obtener los embeddings de las palabras\n",
    "    embeddings = np.array([model.W1[model.word_to_index(word)] for word in words if word in model.vocab_freq])\n",
    "    words = [word for word in words if word in model.vocab_freq]\n",
    "\n",
    "    # Reducir a 2 dimensiones con PCA\n",
    "    pca = PCA(n_components=2)\n",
    "    reduced_embeddings = pca.fit_transform(embeddings)\n",
    "\n",
    "    # Graficar\n",
    "    plt.figure(figsize=(8, 6))\n",
    "    for i, word in enumerate(words):\n",
    "        plt.scatter(reduced_embeddings[i, 0], reduced_embeddings[i, 1])\n",
    "        plt.annotate(word, (reduced_embeddings[i, 0], reduced_embeddings[i, 1]))\n",
    "    plt.xlabel(\"PC1\")\n",
    "    plt.ylabel(\"PC2\")\n",
    "    plt.title(\"Visualización de Embeddings usando PCA\")\n",
    "    plt.show()\n",
    "\n",
    "# Palabras para visualizar\n",
    "words_to_plot = ['banco', 'finanzas', 'valor', 'presidente', 'ciudadano','millones','divisas']\n",
    "plot_embeddings(model, words_to_plot)\n"
   ]
  },
  {
   "cell_type": "markdown",
   "id": "825c1f43-b21f-4503-9202-b7a66af9f89c",
   "metadata": {},
   "source": [
    "### Skip Gram"
   ]
  },
  {
   "cell_type": "markdown",
   "id": "04de33de-d591-4273-a062-65c7197d44c9",
   "metadata": {},
   "source": [
    "## Implementación del Algoritmo Skip-gram con Muestreo Negativo\n",
    "\n",
    "El modelo **Skip-gram** es un tipo de modelo de lenguaje utilizado para representar palabras en un espacio de embeddings. En lugar de predecir la palabra objetivo a partir de su contexto (como en CBOW), Skip-gram toma una palabra central y trata de predecir sus palabras de contexto. Esta técnica es útil para capturar relaciones semánticas entre palabras, y es una de las arquitecturas de **Word2Vec**.\n",
    "\n",
    "En este notebook, implementaremos el modelo Skip-gram con muestreo negativo para reducir el costo computacional, probaremos el entrenamiento en varios lotes y visualizaremos los resultados para analizar la calidad de los embeddings.\n"
   ]
  },
  {
   "cell_type": "markdown",
   "id": "40e4034a-a698-4f8d-ba31-d3f1e1a5eafc",
   "metadata": {},
   "source": [
    "### Diferencias entre Skip-gram y CBOW\n",
    "\n",
    "1. **Objetivo de Predicción**:\n",
    "   - **CBOW**: Dado un conjunto de palabras de contexto, predice la palabra objetivo (central).\n",
    "   - **Skip-gram**: Dada la palabra objetivo, predice cada palabra en su contexto.\n",
    "  \n",
    "2. **Uso de Muestreo Negativo**:\n",
    "   - En Skip-gram, el muestreo negativo se utiliza para reducir el costo de cálculo en la predicción de múltiples palabras de contexto. Este método crea ejemplos negativos (palabras que no deberían estar en el contexto) para reducir la probabilidad de ruido en el aprendizaje.\n",
    "  \n",
    "3. **Arquitectura del Modelo**:\n",
    "   - Ambos modelos utilizan dos matrices de embeddings (entrada y salida), pero en Skip-gram, el modelo trata de aprender una representación para predecir palabras de contexto a partir de una palabra central, lo cual ayuda a capturar relaciones entre palabras.\n"
   ]
  },
  {
   "cell_type": "markdown",
   "id": "022d56f7-21e7-46a1-933a-b859b966c112",
   "metadata": {},
   "source": [
    "## Paso 1: Inicialización del Vocabulario y los Pesos\n",
    "\n",
    "Comenzamos creando una función para inicializar el vocabulario y definir las matrices de peso (`W1` y `W2`). `W1` contendrá los embeddings de entrada, mientras que `W2` contendrá los embeddings de salida. Ambos se inicializan de manera aleatoria.\n"
   ]
  },
  {
   "cell_type": "code",
   "execution_count": 78,
   "id": "649caf7c-f6f2-4813-b1b7-f647edd702e1",
   "metadata": {},
   "outputs": [],
   "source": [
    "import numpy as np\n",
    "\n",
    "class SkipGram:\n",
    "    def __init__(self, vocab_size, embedding_dim):\n",
    "        self.vocab_size = vocab_size\n",
    "        self.embedding_dim = embedding_dim\n",
    "        self.W1 = np.random.rand(vocab_size, embedding_dim) - 0.5  # Embeddings de entrada\n",
    "        self.W2 = np.random.rand(embedding_dim, vocab_size) - 0.5  # Embeddings de salida\n"
   ]
  },
  {
   "cell_type": "markdown",
   "id": "6734e82b-5966-4923-ba56-59d36337d2ec",
   "metadata": {},
   "source": [
    "## Paso 2: Implementación de la Función Softmax\n",
    "\n",
    "La función `softmax` convierte los valores de salida en probabilidades, que utilizaremos para hacer predicciones sobre las palabras de contexto en Skip-gram.\n"
   ]
  },
  {
   "cell_type": "code",
   "execution_count": 79,
   "id": "be059a9c-706f-43eb-bb84-593cc9260f1e",
   "metadata": {},
   "outputs": [],
   "source": [
    "def softmax(x):\n",
    "    exp_x = np.exp(x - np.max(x))  # Para estabilidad numérica\n",
    "    return exp_x / np.sum(exp_x)\n"
   ]
  },
  {
   "cell_type": "markdown",
   "id": "47243086-0dd7-479b-8865-521c7e081a11",
   "metadata": {},
   "source": [
    "## Paso 3: Cálculo del Error\n",
    "\n",
    "En este paso, implementamos el cálculo del error. Usaremos la entropía cruzada para medir la diferencia entre las probabilidades predichas y las verdaderas. \n",
    "En lugar de calcular el error sobre todas las palabras, usamos **muestreo negativo**, que consiste en elegir algunas palabras aleatorias como \"negativas\" que no deberían aparecer en el contexto de la palabra central.\n"
   ]
  },
  {
   "cell_type": "code",
   "execution_count": 80,
   "id": "b219b6e0-e558-4310-8199-f64c6bc79606",
   "metadata": {},
   "outputs": [],
   "source": [
    "def negative_sampling(vocab_size, positive_indices, num_neg_samples):\n",
    "    \"\"\"Genera índices de palabras de muestreo negativo que no están en el contexto.\"\"\"\n",
    "    negatives = []\n",
    "    while len(negatives) < num_neg_samples:\n",
    "        neg = np.random.randint(0, vocab_size)\n",
    "        if neg not in positive_indices:\n",
    "            negatives.append(neg)\n",
    "    return negatives\n"
   ]
  },
  {
   "cell_type": "markdown",
   "id": "a01097be-5012-4a9b-af3b-94e7a4acb613",
   "metadata": {},
   "source": [
    "## Implementación Completa del Modelo Skip-gram con Muestreo Negativo\n",
    "\n",
    "La implementación de `train` incluye la actualización de los embeddings para la palabra objetivo y sus palabras de contexto, así como el muestreo negativo. Cada contexto verdadero incrementa la probabilidad de las palabras reales, mientras que el muestreo negativo reduce la probabilidad de palabras que no están en el contexto, optimizando así el cálculo de probabilidades y mejorando la eficiencia del entrenamiento.\n"
   ]
  },
  {
   "cell_type": "code",
   "execution_count": 83,
   "id": "17cc1072-9916-4943-9664-73f080b98c3c",
   "metadata": {},
   "outputs": [],
   "source": [
    "import re\n",
    "import numpy as np\n",
    "\n",
    "class SkipGram:\n",
    "    def __init__(self, path_corpus: str, embedding_dim=10, learning_rate=0.01, window_size=2):\n",
    "        # Configuración del modelo\n",
    "        self.embedding_dim = embedding_dim\n",
    "        self.learning_rate = learning_rate\n",
    "        self.window_size = window_size\n",
    "\n",
    "        # Cargar y tokenizar el corpus\n",
    "        self.path_corpus = path_corpus\n",
    "        self.corpus = self.lectura_corpus(self.path_corpus)\n",
    "        self.corpus_tokenized = self.tokenizer(self.corpus)\n",
    "\n",
    "        # Construcción del vocabulario y frecuencias de unigramas\n",
    "        self.vocab_freq = self.get_unigrams(self.corpus_tokenized)\n",
    "        self.vocab_size = len(self.vocab_freq)\n",
    "        \n",
    "        # Inicialización de matrices de pesos\n",
    "        self.W1 = np.random.rand(self.vocab_size, self.embedding_dim) - 0.5  # Embeddings de entrada\n",
    "        self.W2 = np.random.rand(self.embedding_dim, self.vocab_size) - 0.5  # Embeddings de salida\n",
    "\n",
    "    def lectura_corpus(self, path):\n",
    "        # Leer el archivo de texto\n",
    "        with open(path, mode='r', encoding='utf-8') as f:\n",
    "            text = f.read().lower()\n",
    "        return text\n",
    "\n",
    "    def tokenizer(self, corpus: str) -> list:\n",
    "        # Tokenización manual por palabras, eliminando puntuación\n",
    "        pattern = re.compile(r'\\b[a-zA-Z]+\\b')\n",
    "        return pattern.findall(corpus)\n",
    "\n",
    "    def get_unigrams(self, corpus: list):\n",
    "        # Crear el vocabulario y calcular frecuencia de unigramas\n",
    "        unigrams = {}\n",
    "        for word in corpus:\n",
    "            if word not in unigrams:\n",
    "                unigrams[word] = len(unigrams)  # Asignar un índice único a cada palabra\n",
    "        return unigrams\n",
    "\n",
    "    def generate_training_data(self):\n",
    "        # Generar pares (objetivo, contexto) para entrenamiento de Skip-gram\n",
    "        data = []\n",
    "        for i in range(self.window_size, len(self.corpus_tokenized) - self.window_size):\n",
    "            target_word = self.corpus_tokenized[i]\n",
    "            target_idx = self.word_to_index(target_word)\n",
    "            context_indices = [\n",
    "                self.word_to_index(self.corpus_tokenized[j])\n",
    "                for j in range(i - self.window_size, i + self.window_size + 1)\n",
    "                if j != i and j >= 0 and j < len(self.corpus_tokenized)\n",
    "            ]\n",
    "            data.append((target_idx, context_indices))\n",
    "        return data\n",
    "\n",
    "    def word_to_index(self, word):\n",
    "        # Obtener el índice de una palabra en el vocabulario\n",
    "        return self.vocab_freq.get(word, -1)\n",
    "\n",
    "    def negative_sampling(self, positive_indices, num_neg_samples):\n",
    "        \"\"\"Genera índices de palabras de muestreo negativo que no están en el contexto.\"\"\"\n",
    "        negatives = []\n",
    "        while len(negatives) < num_neg_samples:\n",
    "            neg = np.random.randint(0, self.vocab_size)\n",
    "            if neg not in positive_indices:\n",
    "                negatives.append(neg)\n",
    "        return negatives\n",
    "\n",
    "    def train(self, epochs=10, num_neg_samples=5):\n",
    "        # Generar datos de entrenamiento\n",
    "        training_data = self.generate_training_data()\n",
    "\n",
    "        # Entrenamiento del modelo\n",
    "        for epoch in range(epochs):\n",
    "            total_loss = 0\n",
    "            for target_idx, context_indices in training_data:\n",
    "                # Forward pass\n",
    "                h = self.W1[target_idx]\n",
    "                u = np.dot(h, self.W2)\n",
    "                y_pred = self.softmax(u)\n",
    "\n",
    "                # Muestreo negativo\n",
    "                neg_samples = self.negative_sampling(context_indices, num_neg_samples)\n",
    "\n",
    "                # Ajuste para palabras de contexto reales\n",
    "                EI = np.array(y_pred)\n",
    "                EI[context_indices] -= 1 / len(context_indices)\n",
    "\n",
    "                # Ajuste para muestras negativas\n",
    "                EI[neg_samples] += 1 / len(neg_samples)\n",
    "\n",
    "                # Calcular gradientes\n",
    "                dW2 = np.outer(h, EI)\n",
    "                dW1 = np.dot(self.W2, EI).reshape(self.W1[target_idx].shape)\n",
    "\n",
    "                # Actualización de pesos\n",
    "                self.W1[target_idx] -= self.learning_rate * dW1\n",
    "                self.W2 -= self.learning_rate * dW2\n",
    "\n",
    "                # Calcular pérdida para contexto y muestras negativas\n",
    "                true_loss = -np.sum(np.log(y_pred[context_indices]))\n",
    "                neg_loss = -np.sum(np.log(1 - y_pred[neg_samples]))\n",
    "                total_loss += true_loss + neg_loss\n",
    "\n",
    "            print(f\"Epoch {epoch+1}, Pérdida total: {total_loss}\")\n",
    "\n",
    "    def softmax(self, x):\n",
    "        # Función softmax para convertir en probabilidades\n",
    "        exp_x = np.exp(x - np.max(x))  # Estabilidad numérica\n",
    "        return exp_x / exp_x.sum()\n",
    "\n",
    "    def word_vector(self, word):\n",
    "        # Obtener el embedding de una palabra\n",
    "        word_idx = self.word_to_index(word)\n",
    "        if word_idx != -1:\n",
    "            return self.W1[word_idx]\n",
    "        else:\n",
    "            print(f\"La palabra '{word}' no está en el vocabulario.\")\n",
    "            return None\n"
   ]
  },
  {
   "cell_type": "markdown",
   "id": "a09b73b0-fa0c-4858-b19f-a196763ed6fc",
   "metadata": {},
   "source": [
    "## Prueba de Entrenamiento en Lotes\n",
    "\n",
    "Entrenamos el modelo con varias palabras objetivo y contextos para probar el modelo Skip-gram y observar la convergencia. El modelo ajustará los embeddings de palabras de manera que las palabras semánticamente relacionadas estén más cercanas en el espacio de embeddings.\n"
   ]
  },
  {
   "cell_type": "code",
   "execution_count": 84,
   "id": "e78e978c-8849-4756-8121-2462e0b43395",
   "metadata": {},
   "outputs": [
    {
     "name": "stdout",
     "output_type": "stream",
     "text": [
      "Epoch 1, Pérdida total: 4928807.538822726\n",
      "Epoch 2, Pérdida total: 4920008.250712222\n",
      "Epoch 3, Pérdida total: 4896185.552821751\n",
      "Epoch 4, Pérdida total: 4817943.536538239\n",
      "Epoch 5, Pérdida total: 4723116.283773021\n",
      "Epoch 6, Pérdida total: 4664800.990538778\n",
      "Epoch 7, Pérdida total: 4653753.013754979\n",
      "Epoch 8, Pérdida total: 4663131.544858498\n",
      "Epoch 9, Pérdida total: 4656000.004620834\n",
      "Epoch 10, Pérdida total: 4735756.445940593\n"
     ]
    }
   ],
   "source": [
    "# Crear una instancia del modelo SkipGram\n",
    "skipgram_model = SkipGram(path_corpus='./corpus_preprocesado.txt', embedding_dim=10, learning_rate=0.01, window_size=2)\n",
    "\n",
    "# Entrenar el modelo con 10 épocas\n",
    "skipgram_model.train(epochs=10, num_neg_samples=5)"
   ]
  },
  {
   "cell_type": "code",
   "execution_count": 85,
   "id": "fb69039e-4965-4d1b-b073-918cfad08a56",
   "metadata": {},
   "outputs": [
    {
     "data": {
      "image/png": "[encoded data removed]",
      "text/plain": [
       "<Figure size 800x600 with 1 Axes>"
      ]
     },
     "metadata": {},
     "output_type": "display_data"
    }
   ],
   "source": [
    "# Ploteamos con la funcion anterior los embedings reduciendolos su dimensionalidad\n",
    "# Palabras para visualizar\n",
    "words_to_plot = ['banco', 'finanzas', 'valor', 'presidente', 'ciudadano', 'millones', 'divisas']\n",
    "plot_embeddings(skipgram_model, words_to_plot)"
   ]
  },
  {
   "cell_type": "markdown",
   "id": "4c1bfd41-a29c-4118-be68-deba160901bd",
   "metadata": {},
   "source": [
    "# Implementación del Algoritmo GloVe (Global Vectors for Word Representation)\n",
    "\n",
    "GloVe es un modelo de lenguaje que utiliza estadísticas globales de co-ocurrencia para aprender representaciones vectoriales de palabras (embeddings). A diferencia de modelos basados en contexto local como Skip-gram o CBOW, GloVe se basa en la **matriz de co-ocurrencia global** para capturar relaciones semánticas en el vocabulario.\n",
    "\n",
    "### Objetivos de GloVe\n",
    "El objetivo de GloVe es encontrar vectores de palabras `wi` y `wj` tales que el producto punto de sus embeddings (junto con términos de sesgo) represente el logaritmo de la frecuencia de co-ocurrencia de esas palabras.\n",
    "\n",
    "En este notebook, implementaremos el modelo GloVe paso a paso:\n",
    "1. Construcción de la matriz de co-ocurrencia.\n",
    "2. Inicialización de los vectores de palabras y términos de sesgo.\n",
    "3. Definición de la función de costo y cálculo de gradientes.\n",
    "4. Optimización mediante gradiente descendente.\n"
   ]
  },
  {
   "cell_type": "markdown",
   "id": "0d357a68-2cd0-41f5-96aa-d1b29e2abcee",
   "metadata": {},
   "source": [
    "## Paso 1: Construcción de la Matriz de Co-ocurrencia\n",
    "\n",
    "La matriz de co-ocurrencia `X` es una matriz `V x V` (donde `V` es el tamaño del vocabulario), en la que cada entrada `X[i, j]` representa la frecuencia de co-ocurrencia entre las palabras `i` y `j` en una ventana de contexto determinada.\n",
    "\n",
    "Para construir esta matriz, recorreremos el corpus, y para cada palabra, contaremos las palabras que aparecen en su ventana de contexto.\n",
    "\n",
    "**Nota**: `window_size` define la cantidad de palabras alrededor de la palabra central que se considerarán en el contexto.\n"
   ]
  },
  {
   "cell_type": "code",
   "execution_count": 86,
   "id": "4949b991-d820-4c55-8e17-958b85e2a44f",
   "metadata": {},
   "outputs": [],
   "source": [
    "import numpy as np\n",
    "from collections import defaultdict\n",
    "\n",
    "def build_cooccurrence_matrix(corpus, vocab, window_size=2):\n",
    "    \"\"\"Construye la matriz de co-ocurrencia a partir del corpus y el vocabulario.\"\"\"\n",
    "    vocab_size = len(vocab)\n",
    "    cooccurrence_matrix = np.zeros((vocab_size, vocab_size))\n",
    "\n",
    "    # Recorre cada palabra en el corpus y cuenta co-ocurrencias en su ventana de contexto\n",
    "    for i, word in enumerate(corpus):\n",
    "        word_idx = vocab[word]\n",
    "        start = max(0, i - window_size)\n",
    "        end = min(len(corpus), i + window_size + 1)\n",
    "        for j in range(start, end):\n",
    "            if i != j:  # Ignorar la palabra central\n",
    "                context_word = corpus[j]\n",
    "                context_idx = vocab[context_word]\n",
    "                cooccurrence_matrix[word_idx, context_idx] += 1\n",
    "\n",
    "    return cooccurrence_matrix\n"
   ]
  },
  {
   "cell_type": "code",
   "execution_count": 87,
   "id": "b49caa25-5f0a-401c-8568-bf2e73342ea5",
   "metadata": {},
   "outputs": [
    {
     "name": "stdout",
     "output_type": "stream",
     "text": [
      "Matriz de co-ocurrencia:\n",
      "[[0. 1. 0. 1. 1. 0. 1.]\n",
      " [1. 0. 1. 0. 1. 0. 1.]\n",
      " [0. 1. 0. 0. 1. 1. 1.]\n",
      " [1. 0. 0. 0. 1. 0. 1.]\n",
      " [1. 1. 1. 1. 0. 0. 2.]\n",
      " [0. 0. 1. 0. 0. 0. 1.]\n",
      " [1. 1. 1. 1. 2. 1. 0.]]\n"
     ]
    }
   ],
   "source": [
    "# Ejemplo de corpus y vocabulario\n",
    "corpus = [\"el\", \"gato\", \"come\", \"pescado\", \"y\", \"el\", \"ratón\", \"come\", \"queso\"]\n",
    "vocab = {word: i for i, word in enumerate(set(corpus))}\n",
    "\n",
    "# Construir la matriz de co-ocurrencia\n",
    "cooccurrence_matrix = build_cooccurrence_matrix(corpus, vocab, window_size=2)\n",
    "print(\"Matriz de co-ocurrencia:\")\n",
    "print(cooccurrence_matrix)\n"
   ]
  },
  {
   "cell_type": "markdown",
   "id": "01c1e741-7482-49b9-9539-c57e2eeb1418",
   "metadata": {},
   "source": [
    "## Paso 2: Inicialización de Vectores y Sesgos\n",
    "\n",
    "Para cada palabra en el vocabulario, inicializamos un vector de embedding `wi` y un término de sesgo `bi`. De manera similar, cada palabra en el contexto tendrá su propio vector `wj` y sesgo `bj`.\n",
    "\n",
    "Los embeddings y sesgos se inicializan aleatoriamente.\n"
   ]
  },
  {
   "cell_type": "code",
   "execution_count": 88,
   "id": "e87bb4d2-8515-4d08-bb1a-e5f312684e39",
   "metadata": {},
   "outputs": [],
   "source": [
    "def initialize_parameters(vocab_size, embedding_dim):\n",
    "    \"\"\"Inicializa los embeddings y sesgos para cada palabra en el vocabulario.\"\"\"\n",
    "    W = np.random.rand(vocab_size, embedding_dim) - 0.5\n",
    "    W_tilde = np.random.rand(vocab_size, embedding_dim) - 0.5\n",
    "    b = np.random.rand(vocab_size) - 0.5\n",
    "    b_tilde = np.random.rand(vocab_size) - 0.5\n",
    "    return W, W_tilde, b, b_tilde\n"
   ]
  },
  {
   "cell_type": "markdown",
   "id": "1fed22db-b597-4192-a111-ba72ee8294dc",
   "metadata": {},
   "source": [
    "## Paso 3: Definición de la Función de Costo\n",
    "\n",
    "La función de costo de GloVe minimiza el error cuadrático entre el producto de los embeddings y el logaritmo de la co-ocurrencia:\n",
    "\n",
    "\\[\n",
    "$J = \\sum_{i,j=1}^V f(X_{ij}) \\left( w_i^T \\tilde{w_j} + b_i + \\tilde{b_j} - \\log(X_{ij}) \\right)^2$\n",
    "\\]\n",
    "\n",
    "Donde `f(X_ij)` es una función de ponderación que ajusta el peso de cada par `(i, j)` basado en la frecuencia `X_ij`.\n",
    "\n",
    "Implementaremos también el cálculo de gradientes para actualizar los embeddings `W`, `W_tilde` y los sesgos `b`, `b_tilde`.\n"
   ]
  },
  {
   "cell_type": "code",
   "execution_count": 89,
   "id": "e0822d99-480d-46d9-95ed-f291ab1b8ed1",
   "metadata": {},
   "outputs": [],
   "source": [
    "def weighting_function(x, xmax=100, alpha=0.75):\n",
    "    \"\"\"Función de ponderación f(X_ij).\"\"\"\n",
    "    return (x / xmax) ** alpha if x < xmax else 1\n",
    "\n",
    "def compute_cost_and_gradients(W, W_tilde, b, b_tilde, X, vocab_size, embedding_dim):\n",
    "    \"\"\"Calcula el costo y los gradientes para actualizar los parámetros.\"\"\"\n",
    "    cost = 0\n",
    "    dW = np.zeros_like(W)\n",
    "    dW_tilde = np.zeros_like(W_tilde)\n",
    "    db = np.zeros(vocab_size)\n",
    "    db_tilde = np.zeros(vocab_size)\n",
    "\n",
    "    for i in range(vocab_size):\n",
    "        for j in range(vocab_size):\n",
    "            if X[i, j] > 0:\n",
    "                # Cálculo del error\n",
    "                log_Xij = np.log(X[i, j])\n",
    "                weight = weighting_function(X[i, j])\n",
    "                diff = np.dot(W[i], W_tilde[j]) + b[i] + b_tilde[j] - log_Xij\n",
    "                cost += weight * (diff ** 2)\n",
    "\n",
    "                # Gradientes\n",
    "                grad = 2 * weight * diff\n",
    "                dW[i] += grad * W_tilde[j]\n",
    "                dW_tilde[j] += grad * W[i]\n",
    "                db[i] += grad\n",
    "                db_tilde[j] += grad\n",
    "\n",
    "    return cost, dW, dW_tilde, db, db_tilde\n"
   ]
  },
  {
   "cell_type": "markdown",
   "id": "f7707d9e-2d8a-4d2c-bdef-bc97ca62936b",
   "metadata": {},
   "source": [
    "## Paso 4: Optimización mediante Gradiente Descendente\n",
    "\n",
    "Usamos los gradientes calculados para actualizar los parámetros `W`, `W_tilde`, `b` y `b_tilde`. Realizaremos iteraciones sobre los datos hasta que la función de costo converja o se alcance un número máximo de épocas.\n"
   ]
  },
  {
   "cell_type": "code",
   "execution_count": 91,
   "id": "61511087-ef09-468d-8177-f2ff77f26303",
   "metadata": {},
   "outputs": [],
   "source": [
    "def train_glove(X, vocab_size, embedding_dim, epochs=100, learning_rate=0.01):\n",
    "    \"\"\"Entrena el modelo GloVe mediante gradiente descendente.\"\"\"\n",
    "    W, W_tilde, b, b_tilde = initialize_parameters(vocab_size, embedding_dim)\n",
    "\n",
    "    for epoch in range(epochs):\n",
    "        cost, dW, dW_tilde, db, db_tilde = compute_cost_and_gradients(W, W_tilde, b, b_tilde, X, vocab_size, embedding_dim)\n",
    "\n",
    "        # Actualizar parámetros\n",
    "        W -= learning_rate * dW\n",
    "        W_tilde -= learning_rate * dW_tilde\n",
    "        b -= learning_rate * db\n",
    "        b_tilde -= learning_rate * db_tilde\n",
    "\n",
    "        if epoch % 10 == 0:\n",
    "            print(f\"Epoch {epoch+1}, Costo: {cost:.4f}\")\n",
    "\n",
    "    return W, W_tilde, b, b_tilde\n"
   ]
  },
  {
   "cell_type": "code",
   "execution_count": 2,
   "id": "f2ce6ab4-5611-4da0-9055-e58bcb8d69c3",
   "metadata": {},
   "outputs": [],
   "source": [
    "import numpy as np\n",
    "import re\n",
    "\n",
    "class GloVe:\n",
    "    def __init__(self, path_corpus, embedding_dim=10, window_size=2, xmax=100, alpha=0.75):\n",
    "        self.embedding_dim = embedding_dim\n",
    "        self.window_size = window_size\n",
    "        self.xmax = xmax\n",
    "        self.alpha = alpha\n",
    "\n",
    "        # Cargar y tokenizar el corpus\n",
    "        self.path_corpus = path_corpus\n",
    "        self.corpus = self.lectura_corpus(self.path_corpus)\n",
    "        self.corpus_tokenized = self.tokenizer(self.corpus)\n",
    "\n",
    "        # Construir vocabulario y matriz de co-ocurrencia\n",
    "        self.vocab = {word: i for i, word in enumerate(set(self.corpus_tokenized))}\n",
    "        self.vocab_size = len(self.vocab)\n",
    "        self.X = self.build_cooccurrence_matrix(self.corpus_tokenized, self.vocab, window_size)\n",
    "\n",
    "        # Inicializar vectores de palabras y términos de sesgo\n",
    "        self.W, self.W_tilde, self.b, self.b_tilde = self.initialize_parameters(self.vocab_size, embedding_dim)\n",
    "\n",
    "    def lectura_corpus(self, path):\n",
    "        # Leer el archivo de texto\n",
    "        with open(path, mode='r', encoding='utf-8') as f:\n",
    "            text = f.read().lower()\n",
    "        return text\n",
    "\n",
    "    def tokenizer(self, corpus):\n",
    "        # Tokenización manual por palabras, eliminando puntuación\n",
    "        pattern = re.compile(r'\\b[a-zA-Z]+\\b')\n",
    "        return pattern.findall(corpus)\n",
    "\n",
    "    def build_cooccurrence_matrix(self, corpus, vocab, window_size):\n",
    "        \"\"\"Construye la matriz de co-ocurrencia a partir del corpus y el vocabulario.\"\"\"\n",
    "        vocab_size = len(vocab)\n",
    "        cooccurrence_matrix = np.zeros((vocab_size, vocab_size))\n",
    "\n",
    "        # Recorre cada palabra en el corpus y cuenta co-ocurrencias en su ventana de contexto\n",
    "        for i, word in enumerate(corpus):\n",
    "            word_idx = vocab[word]\n",
    "            start = max(0, i - window_size)\n",
    "            end = min(len(corpus), i + window_size + 1)\n",
    "            for j in range(start, end):\n",
    "                if i != j:  # Ignorar la palabra central\n",
    "                    context_word = corpus[j]\n",
    "                    context_idx = vocab[context_word]\n",
    "                    cooccurrence_matrix[word_idx, context_idx] += 1\n",
    "\n",
    "        return cooccurrence_matrix\n",
    "\n",
    "    def initialize_parameters(self, vocab_size, embedding_dim):\n",
    "        \"\"\"Inicializa los embeddings y sesgos para cada palabra en el vocabulario.\"\"\"\n",
    "        W = np.random.rand(vocab_size, embedding_dim) - 0.5\n",
    "        W_tilde = np.random.rand(vocab_size, embedding_dim) - 0.5\n",
    "        b = np.random.rand(vocab_size) - 0.5\n",
    "        b_tilde = np.random.rand(vocab_size) - 0.5\n",
    "        return W, W_tilde, b, b_tilde\n",
    "\n",
    "    def weighting_function(self, x):\n",
    "        \"\"\"Función de ponderación f(X_ij).\"\"\"\n",
    "        return (x / self.xmax) ** self.alpha if x < self.xmax else 1\n",
    "\n",
    "    def compute_cost_and_gradients(self):\n",
    "        \"\"\"Calcula el costo y los gradientes para actualizar los parámetros.\"\"\"\n",
    "        cost = 0\n",
    "        dW = np.zeros_like(self.W)\n",
    "        dW_tilde = np.zeros_like(self.W_tilde)\n",
    "        db = np.zeros(self.vocab_size)\n",
    "        db_tilde = np.zeros(self.vocab_size)\n",
    "\n",
    "        for i in range(self.vocab_size):\n",
    "            for j in range(self.vocab_size):\n",
    "                if self.X[i, j] > 0:\n",
    "                    log_Xij = np.log(self.X[i, j])\n",
    "                    weight = self.weighting_function(self.X[i, j])\n",
    "                    diff = np.dot(self.W[i], self.W_tilde[j]) + self.b[i] + self.b_tilde[j] - log_Xij\n",
    "                    cost += weight * (diff ** 2)\n",
    "\n",
    "                    # Gradientes\n",
    "                    grad = 2 * weight * diff\n",
    "                    dW[i] += grad * self.W_tilde[j]\n",
    "                    dW_tilde[j] += grad * self.W[i]\n",
    "                    db[i] += grad\n",
    "                    db_tilde[j] += grad\n",
    "\n",
    "        return cost, dW, dW_tilde, db, db_tilde\n",
    "\n",
    "    def train(self, epochs=100, learning_rate=0.01):\n",
    "        \"\"\"Entrena el modelo GloVe mediante gradiente descendente.\"\"\"\n",
    "        for epoch in range(epochs):\n",
    "            cost, dW, dW_tilde, db, db_tilde = self.compute_cost_and_gradients()\n",
    "\n",
    "            # Actualización de parámetros\n",
    "            self.W -= learning_rate * dW\n",
    "            self.W_tilde -= learning_rate * dW_tilde\n",
    "            self.b -= learning_rate * db\n",
    "            self.b_tilde -= learning_rate * db_tilde\n",
    "\n",
    "            \n",
    "            print(f\"Epoch {epoch+1}, Costo: {cost:.4f}\")\n",
    "\n",
    "    def get_embedding(self, word):\n",
    "        \"\"\"Obtiene el embedding de una palabra.\"\"\"\n",
    "        idx = self.vocab.get(word)\n",
    "        if idx is not None:\n",
    "            return self.W[idx]\n",
    "        else:\n",
    "            print(f\"La palabra '{word}' no está en el vocabulario.\")\n",
    "            return None\n"
   ]
  },
  {
   "cell_type": "code",
   "execution_count": 3,
   "id": "2e766e9c-0e27-4a13-a779-ddff1cee60b1",
   "metadata": {},
   "outputs": [
    {
     "name": "stdout",
     "output_type": "stream",
     "text": [
      "Epoch 1, Costo: 10327.7925\n",
      "Epoch 2, Costo: 7229.6658\n",
      "Epoch 3, Costo: 6498.9640\n",
      "Epoch 4, Costo: 6083.5970\n",
      "Epoch 5, Costo: 5792.4456\n",
      "Epoch 6, Costo: 5568.6863\n",
      "Epoch 7, Costo: 5387.4132\n",
      "Epoch 8, Costo: 5235.4551\n",
      "Epoch 9, Costo: 5104.9713\n",
      "Epoch 10, Costo: 4990.8930\n",
      "Epoch 11, Costo: 4889.7431\n",
      "Epoch 12, Costo: 4799.0295\n",
      "Epoch 13, Costo: 4716.9041\n",
      "Epoch 14, Costo: 4641.9573\n",
      "Epoch 15, Costo: 4573.0869\n",
      "Epoch 16, Costo: 4509.4116\n",
      "Epoch 17, Costo: 4450.2127\n",
      "Epoch 18, Costo: 4394.8937\n",
      "Epoch 19, Costo: 4342.9528\n",
      "Epoch 20, Costo: 4293.9635\n",
      "Epoch 21, Costo: 4247.5606\n",
      "Epoch 22, Costo: 4203.4303\n",
      "Epoch 23, Costo: 4161.3021\n",
      "Epoch 24, Costo: 4120.9428\n",
      "Epoch 25, Costo: 4082.1514\n"
     ]
    }
   ],
   "source": [
    "# Crear una instancia y entrenar el modelo GloVe\n",
    "glove_model = GloVe(path_corpus='./corpus_preprocesado.txt', embedding_dim=10, window_size=2)\n",
    "glove_model.train(epochs=25, learning_rate=0.01)"
   ]
  },
  {
   "cell_type": "code",
   "execution_count": 4,
   "id": "a62fe017-14ab-41c9-9c34-90f91c150993",
   "metadata": {},
   "outputs": [
    {
     "data": {
      "image/png": "[encoded data removed]",
      "text/plain": [
       "<Figure size 800x600 with 1 Axes>"
      ]
     },
     "metadata": {},
     "output_type": "display_data"
    }
   ],
   "source": [
    "from sklearn.decomposition import PCA\n",
    "import matplotlib.pyplot as plt\n",
    "import numpy as np\n",
    "\n",
    "def plot_embeddings(model, words):\n",
    "    # Obtener los embeddings de las palabras\n",
    "    embeddings = []\n",
    "    valid_words = []\n",
    "    for word in words:\n",
    "        embedding = model.get_embedding(word)\n",
    "        if embedding is not None:\n",
    "            embeddings.append(embedding)\n",
    "            valid_words.append(word)\n",
    "    \n",
    "    # Convertir a un array de numpy\n",
    "    embeddings = np.array(embeddings)\n",
    "    \n",
    "    # Reducir a 2 dimensiones con PCA\n",
    "    pca = PCA(n_components=2)\n",
    "    reduced_embeddings = pca.fit_transform(embeddings)\n",
    "\n",
    "    # Graficar\n",
    "    plt.figure(figsize=(8, 6))\n",
    "    for i, word in enumerate(valid_words):\n",
    "        plt.scatter(reduced_embeddings[i, 0], reduced_embeddings[i, 1])\n",
    "        plt.annotate(word, (reduced_embeddings[i, 0], reduced_embeddings[i, 1]))\n",
    "    plt.xlabel(\"PC1\")\n",
    "    plt.ylabel(\"PC2\")\n",
    "    plt.title(\"Visualización de Embeddings usando PCA\")\n",
    "    plt.show()\n",
    "\n",
    "# Palabras para visualizar\n",
    "words_to_plot = ['banco', 'finanzas', 'valor', 'presidente', 'ciudadano', 'millones', 'divisas']\n",
    "plot_embeddings(glove_model, words_to_plot)\n"
   ]
  },
  {
   "cell_type": "code",
   "execution_count": null,
   "id": "475065bf-b441-4829-973f-44547809a1a1",
   "metadata": {},
   "outputs": [],
   "source": []
  },
  {
   "cell_type": "code",
   "execution_count": null,
   "id": "956ced7c-0d02-4e8e-8a4d-fdfafbf0638b",
   "metadata": {},
   "outputs": [],
   "source": []
  },
  {
   "cell_type": "code",
   "execution_count": null,
   "id": "d57d0859-37d3-4ea7-b939-9de6aa2dd20d",
   "metadata": {},
   "outputs": [],
   "source": []
  },
  {
   "cell_type": "code",
   "execution_count": null,
   "id": "9fd174d8-3123-4c82-bf06-791464a6bdbd",
   "metadata": {},
   "outputs": [],
   "source": []
  },
  {
   "cell_type": "code",
   "execution_count": null,
   "id": "2ca4825b-1d78-4f1d-a056-1e3770966063",
   "metadata": {},
   "outputs": [],
   "source": []
  },
  {
   "cell_type": "code",
   "execution_count": null,
   "id": "15a6ff60-62b2-4dc2-9c03-1b89af286420",
   "metadata": {},
   "outputs": [],
   "source": []
  },
  {
   "cell_type": "code",
   "execution_count": null,
   "id": "c2b0f4c7-e62a-4d28-8ed1-d9ea3a46fe73",
   "metadata": {},
   "outputs": [],
   "source": []
  }
 ],
 "metadata": {
  "kernelspec": {
   "display_name": "Python 3 (ipykernel)",
   "language": "python",
   "name": "python3"
  },
  "language_info": {
   "codemirror_mode": {
    "name": "ipython",
    "version": 3
   },
   "file_extension": ".py",
   "mimetype": "text/x-python",
   "name": "python",
   "nbconvert_exporter": "python",
   "pygments_lexer": "ipython3",
   "version": "3.11.10"
  }
 },
 "nbformat": 4,
 "nbformat_minor": 5
}
